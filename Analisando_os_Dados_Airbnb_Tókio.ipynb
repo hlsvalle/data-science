{
  "nbformat": 4,
  "nbformat_minor": 0,
  "metadata": {
    "colab": {
      "name": "Untitled0.ipynb",
      "provenance": [],
      "authorship_tag": "ABX9TyPc7pPgbuQqniUbOhg7v2Eb",
      "include_colab_link": true
    },
    "kernelspec": {
      "name": "python3",
      "display_name": "Python 3"
    }
  },
  "cells": [
    {
      "cell_type": "markdown",
      "metadata": {
        "id": "view-in-github",
        "colab_type": "text"
      },
      "source": [
        "<a href=\"https://colab.research.google.com/github/hlsvalle/data-science/blob/master/Analisando_os_Dados_Airbnb_T%C3%B3kio.ipynb\" target=\"_parent\"><img src=\"https://colab.research.google.com/assets/colab-badge.svg\" alt=\"Open In Colab\"/></a>"
      ]
    },
    {
      "cell_type": "markdown",
      "metadata": {
        "id": "zMQJ22KmpJzV",
        "colab_type": "text"
      },
      "source": [
        "#Analise dos Dados do Airbnb - Tókio \n",
        "\n",
        "De acordo com o Wikipédia o [Airbnb](https://www.airbnb.com.br/) é considerado um serviço online comunitário para as pessoas anunciarem, descobrirem e reservarem acomodações e meios de hospedagem.\n",
        "\n",
        "O Airbnb permite ao individuo alugar toda ou partes de sua casa, como forma de uma acomodação extra.\n",
        "\n",
        "A empresa foi fundada em Agosto de 2008 por Brian Chesky, Joe Gebbia e Nathan Blecharczyk em São Francisco, na Califórnia.\n",
        "\n",
        "Uma das iniciativas do Airbnb é disponibilizar dados do site, para algumas das principais cidades do mundo. Por meio do portal [Inside Airbnb](http://insideairbnb.com/get-the-data.html), é possível baixar uma grande quantidade de dados para desenvolver projetos e soluções de *Data Science*.\n",
        "\n",
        "<img alt=\"Analisando Airbnb\" width=\"10%\" src=\"https://www.area360.com.au/wp-content/uploads/2017/09/airbnb-logo.jpg\">\n",
        "\n",
        "**Neste *notebook*, vamos analisar os dados referentes à cidade de Tókio no Japão, e verificar quais insights podem ser extraídos a partir de dados brutos.**"
      ]
    }
  ]
}