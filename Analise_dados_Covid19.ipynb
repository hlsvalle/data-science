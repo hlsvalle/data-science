{
  "nbformat": 4,
  "nbformat_minor": 0,
  "metadata": {
    "colab": {
      "name": "Analise_dados_Covid19.ipynb",
      "provenance": [],
      "collapsed_sections": [],
      "authorship_tag": "ABX9TyMfDuu9MGJAtXpPStGVObDf",
      "include_colab_link": true
    },
    "kernelspec": {
      "name": "python3",
      "display_name": "Python 3"
    },
    "language_info": {
      "name": "python"
    }
  },
  "cells": [
    {
      "cell_type": "markdown",
      "metadata": {
        "id": "view-in-github",
        "colab_type": "text"
      },
      "source": [
        "<a href=\"https://colab.research.google.com/github/hlsvalle/data-science/blob/master/Analise_dados_Covid19.ipynb\" target=\"_parent\"><img src=\"https://colab.research.google.com/assets/colab-badge.svg\" alt=\"Open In Colab\"/></a>"
      ]
    },
    {
      "cell_type": "markdown",
      "metadata": {
        "id": "oGIeIhjNi7rH"
      },
      "source": [
        "#Covid-19 no Brasil e no Mundo\n",
        "\n",
        "<p align=\"justify\">De acordo com a OPAS - Organização Pan-Americana de Saúde a COVID-19 é uma doença infecciosa causada pelo novo coronavírus (SARS-CoV-2) e tem como principais sintomas febre, cansaço e tosse seca. Alguns pacientes podem apresentar dores, congestão nasal, dor de cabeça, conjuntivite, dor de garganta, diarreia, perda de paladar ou olfato, erupção cutânea na pele ou descoloração dos dedos das mãos ou dos pés. Esses sintomas geralmente são leves e começam gradualmente. Algumas pessoas são infectadas, mas apresentam apenas sintomas muito leves.\n",
        "\n",
        "<p align=\"justify\">A maioria das pessoas (cerca de 80%) se recupera da doença sem precisar de tratamento hospitalar. Uma em cada seis pessoas infectadas por COVID-19 fica gravemente doente e desenvolve dificuldade de respirar. As pessoas idosas e as que têm outras condições de saúde como pressão alta, problemas cardíacos e do pulmão, diabetes ou câncer, têm maior risco de ficarem gravemente doentes. No entanto, qualquer pessoa pode pegar a COVID-19 e ficar gravemente doente.\n",
        "\n",
        "<center><img alt = \"Colaboratory\" width=\"50%\" src=\"https://raw.githubusercontent.com/hlsvalle/data-science/master/img/covid19.jpg\"></center>\n",
        "\n",
        "<justify>Neste projeto iremos mostrar como estão os Casos de Covid-19 no Brasil e no Mundo.</justify> "
      ]
    },
    {
      "cell_type": "markdown",
      "metadata": {
        "id": "8IeX16DJvfJB"
      },
      "source": [
        "#Obtenção dos Dados\n",
        "\n",
        "<p align=\"justify\">Muitos dados são informados diariamente sobre o COVID 19 no Brasil e no Mundo, porém muita dessas informações são de dificil acesso, tendo como diversas fontes, é possivel encontrar dados separados de Paises, Estados e Municipios, o que dificulta as analises de dados, e tambem não podemos esquecer dos dados não oficiais. No caso do Brasil, os dados são consolidados pelo Governo Federal que por sua vez, recebe essas informações dos Governos Estaduais e Municipais.</p> "
      ]
    },
    {
      "cell_type": "markdown",
      "metadata": {
        "id": "Dw1V76lx0LXv"
      },
      "source": [
        "* O projeto será desenvolvido através dos dados fornecidos por [*Our Word in Data*](https://ourworldindata.org)."
      ]
    },
    {
      "cell_type": "markdown",
      "metadata": {
        "id": "R2EeIuGUs7X1"
      },
      "source": [
        "### Dicionário das Variaveis\n",
        "\n",
        "* iso_code - Código Id\n",
        "* continent - Continente da Localização Geográfica\n",
        "* location - Localização Geográfica\n",
        "* date - Data\n",
        "* total_cases - Total de Casos confirmados\n",
        "* new_cases - Novos Casos confirmados\n",
        "* new_cases_smoothed - Novos Casos (7 dias)\n",
        "* total_deaths - Total de mortos\n",
        "* new_deaths - Total de Novos mortos\n",
        "* new_deaths_smoothed - Total de mortos (7 dias\n",
        "* total_cases_per_million - Total de Casos confirmados por 1 milhão/hab\n",
        "* new_cases_per_million - Novos casos por 1 milhão/hab \n",
        "* new_cases_smoothed_per_million - Novos Casos por 1 milhão/hab (7 dias)\n",
        "* total_deaths_per_million - Total de Mortos por 1 milhão/hab\n",
        "* new_deaths_per_million - Novos Mortos por 1 milhão/hab\n",
        "* new_deaths_smoothed_per_million - Novos Mortos por 1 milhão/hab (7 dias)"
      ]
    },
    {
      "cell_type": "code",
      "metadata": {
        "id": "EuSyCZrvy7QT"
      },
      "source": [
        "#Importando as bibliotecas\n",
        "import pandas as pd\n",
        "import matplotlib.pyplot as plt\n",
        "import seaborn as sns"
      ],
      "execution_count": 9,
      "outputs": []
    },
    {
      "cell_type": "code",
      "metadata": {
        "id": "zUn_3IWczDzO"
      },
      "source": [
        "#Importando o DataSet para o DataFrame\n",
        "df = pd.read_csv('https://covid.ourworldindata.org/data/owid-covid-data.csv')"
      ],
      "execution_count": 3,
      "outputs": []
    },
    {
      "cell_type": "markdown",
      "metadata": {
        "id": "mDoz-9MIzdhS"
      },
      "source": [
        "#Análise Exploratória dos Dados\n",
        "\n",
        "<p align=\"justify\">Nesta fase é possivel conhecermos melhor os dados obtidos, como visualizar as entradas de dados, os valores ausentes, reconhecer possiveis outliers que possam vir a distorcer nossos resultados, visualizar resumos estatisticos e muito mais.</p>"
      ]
    },
    {
      "cell_type": "markdown",
      "metadata": {
        "id": "NqxmhQmU08wo"
      },
      "source": [
        "**Visualizando as 5 primeiras entradas**"
      ]
    },
    {
      "cell_type": "code",
      "metadata": {
        "colab": {
          "base_uri": "https://localhost:8080/",
          "height": 309
        },
        "id": "k9n46dbI1CBI",
        "outputId": "e869293f-1a31-43b3-bc47-7c1d64119d1d"
      },
      "source": [
        "df.head()"
      ],
      "execution_count": 120,
      "outputs": [
        {
          "output_type": "execute_result",
          "data": {
            "text/html": [
              "<div>\n",
              "<style scoped>\n",
              "    .dataframe tbody tr th:only-of-type {\n",
              "        vertical-align: middle;\n",
              "    }\n",
              "\n",
              "    .dataframe tbody tr th {\n",
              "        vertical-align: top;\n",
              "    }\n",
              "\n",
              "    .dataframe thead th {\n",
              "        text-align: right;\n",
              "    }\n",
              "</style>\n",
              "<table border=\"1\" class=\"dataframe\">\n",
              "  <thead>\n",
              "    <tr style=\"text-align: right;\">\n",
              "      <th></th>\n",
              "      <th>iso_code</th>\n",
              "      <th>continent</th>\n",
              "      <th>location</th>\n",
              "      <th>date</th>\n",
              "      <th>total_cases</th>\n",
              "      <th>new_cases</th>\n",
              "      <th>new_cases_smoothed</th>\n",
              "      <th>total_deaths</th>\n",
              "      <th>new_deaths</th>\n",
              "      <th>new_deaths_smoothed</th>\n",
              "      <th>total_cases_per_million</th>\n",
              "      <th>new_cases_per_million</th>\n",
              "      <th>new_cases_smoothed_per_million</th>\n",
              "      <th>total_deaths_per_million</th>\n",
              "      <th>new_deaths_per_million</th>\n",
              "      <th>new_deaths_smoothed_per_million</th>\n",
              "      <th>reproduction_rate</th>\n",
              "      <th>icu_patients</th>\n",
              "      <th>icu_patients_per_million</th>\n",
              "      <th>hosp_patients</th>\n",
              "      <th>hosp_patients_per_million</th>\n",
              "      <th>weekly_icu_admissions</th>\n",
              "      <th>weekly_icu_admissions_per_million</th>\n",
              "      <th>weekly_hosp_admissions</th>\n",
              "      <th>weekly_hosp_admissions_per_million</th>\n",
              "      <th>new_tests</th>\n",
              "      <th>total_tests</th>\n",
              "      <th>total_tests_per_thousand</th>\n",
              "      <th>new_tests_per_thousand</th>\n",
              "      <th>new_tests_smoothed</th>\n",
              "      <th>new_tests_smoothed_per_thousand</th>\n",
              "      <th>positive_rate</th>\n",
              "      <th>tests_per_case</th>\n",
              "      <th>tests_units</th>\n",
              "      <th>total_vaccinations</th>\n",
              "      <th>people_vaccinated</th>\n",
              "      <th>people_fully_vaccinated</th>\n",
              "      <th>new_vaccinations</th>\n",
              "      <th>new_vaccinations_smoothed</th>\n",
              "      <th>total_vaccinations_per_hundred</th>\n",
              "      <th>people_vaccinated_per_hundred</th>\n",
              "      <th>people_fully_vaccinated_per_hundred</th>\n",
              "      <th>new_vaccinations_smoothed_per_million</th>\n",
              "      <th>stringency_index</th>\n",
              "      <th>population</th>\n",
              "      <th>population_density</th>\n",
              "      <th>median_age</th>\n",
              "      <th>aged_65_older</th>\n",
              "      <th>aged_70_older</th>\n",
              "      <th>gdp_per_capita</th>\n",
              "      <th>extreme_poverty</th>\n",
              "      <th>cardiovasc_death_rate</th>\n",
              "      <th>diabetes_prevalence</th>\n",
              "      <th>female_smokers</th>\n",
              "      <th>male_smokers</th>\n",
              "      <th>handwashing_facilities</th>\n",
              "      <th>hospital_beds_per_thousand</th>\n",
              "      <th>life_expectancy</th>\n",
              "      <th>human_development_index</th>\n",
              "      <th>excess_mortality</th>\n",
              "    </tr>\n",
              "  </thead>\n",
              "  <tbody>\n",
              "    <tr>\n",
              "      <th>0</th>\n",
              "      <td>AFG</td>\n",
              "      <td>Asia</td>\n",
              "      <td>Afghanistan</td>\n",
              "      <td>2020-02-24</td>\n",
              "      <td>1.0</td>\n",
              "      <td>1.0</td>\n",
              "      <td>NaN</td>\n",
              "      <td>NaN</td>\n",
              "      <td>NaN</td>\n",
              "      <td>NaN</td>\n",
              "      <td>0.026</td>\n",
              "      <td>0.026</td>\n",
              "      <td>NaN</td>\n",
              "      <td>NaN</td>\n",
              "      <td>NaN</td>\n",
              "      <td>NaN</td>\n",
              "      <td>NaN</td>\n",
              "      <td>NaN</td>\n",
              "      <td>NaN</td>\n",
              "      <td>NaN</td>\n",
              "      <td>NaN</td>\n",
              "      <td>NaN</td>\n",
              "      <td>NaN</td>\n",
              "      <td>NaN</td>\n",
              "      <td>NaN</td>\n",
              "      <td>NaN</td>\n",
              "      <td>NaN</td>\n",
              "      <td>NaN</td>\n",
              "      <td>NaN</td>\n",
              "      <td>NaN</td>\n",
              "      <td>NaN</td>\n",
              "      <td>NaN</td>\n",
              "      <td>NaN</td>\n",
              "      <td>NaN</td>\n",
              "      <td>NaN</td>\n",
              "      <td>NaN</td>\n",
              "      <td>NaN</td>\n",
              "      <td>NaN</td>\n",
              "      <td>NaN</td>\n",
              "      <td>NaN</td>\n",
              "      <td>NaN</td>\n",
              "      <td>NaN</td>\n",
              "      <td>NaN</td>\n",
              "      <td>8.33</td>\n",
              "      <td>38928341.0</td>\n",
              "      <td>54.422</td>\n",
              "      <td>18.6</td>\n",
              "      <td>2.581</td>\n",
              "      <td>1.337</td>\n",
              "      <td>1803.987</td>\n",
              "      <td>NaN</td>\n",
              "      <td>597.029</td>\n",
              "      <td>9.59</td>\n",
              "      <td>NaN</td>\n",
              "      <td>NaN</td>\n",
              "      <td>37.746</td>\n",
              "      <td>0.5</td>\n",
              "      <td>64.83</td>\n",
              "      <td>0.511</td>\n",
              "      <td>NaN</td>\n",
              "    </tr>\n",
              "    <tr>\n",
              "      <th>1</th>\n",
              "      <td>AFG</td>\n",
              "      <td>Asia</td>\n",
              "      <td>Afghanistan</td>\n",
              "      <td>2020-02-25</td>\n",
              "      <td>1.0</td>\n",
              "      <td>0.0</td>\n",
              "      <td>NaN</td>\n",
              "      <td>NaN</td>\n",
              "      <td>NaN</td>\n",
              "      <td>NaN</td>\n",
              "      <td>0.026</td>\n",
              "      <td>0.000</td>\n",
              "      <td>NaN</td>\n",
              "      <td>NaN</td>\n",
              "      <td>NaN</td>\n",
              "      <td>NaN</td>\n",
              "      <td>NaN</td>\n",
              "      <td>NaN</td>\n",
              "      <td>NaN</td>\n",
              "      <td>NaN</td>\n",
              "      <td>NaN</td>\n",
              "      <td>NaN</td>\n",
              "      <td>NaN</td>\n",
              "      <td>NaN</td>\n",
              "      <td>NaN</td>\n",
              "      <td>NaN</td>\n",
              "      <td>NaN</td>\n",
              "      <td>NaN</td>\n",
              "      <td>NaN</td>\n",
              "      <td>NaN</td>\n",
              "      <td>NaN</td>\n",
              "      <td>NaN</td>\n",
              "      <td>NaN</td>\n",
              "      <td>NaN</td>\n",
              "      <td>NaN</td>\n",
              "      <td>NaN</td>\n",
              "      <td>NaN</td>\n",
              "      <td>NaN</td>\n",
              "      <td>NaN</td>\n",
              "      <td>NaN</td>\n",
              "      <td>NaN</td>\n",
              "      <td>NaN</td>\n",
              "      <td>NaN</td>\n",
              "      <td>8.33</td>\n",
              "      <td>38928341.0</td>\n",
              "      <td>54.422</td>\n",
              "      <td>18.6</td>\n",
              "      <td>2.581</td>\n",
              "      <td>1.337</td>\n",
              "      <td>1803.987</td>\n",
              "      <td>NaN</td>\n",
              "      <td>597.029</td>\n",
              "      <td>9.59</td>\n",
              "      <td>NaN</td>\n",
              "      <td>NaN</td>\n",
              "      <td>37.746</td>\n",
              "      <td>0.5</td>\n",
              "      <td>64.83</td>\n",
              "      <td>0.511</td>\n",
              "      <td>NaN</td>\n",
              "    </tr>\n",
              "    <tr>\n",
              "      <th>2</th>\n",
              "      <td>AFG</td>\n",
              "      <td>Asia</td>\n",
              "      <td>Afghanistan</td>\n",
              "      <td>2020-02-26</td>\n",
              "      <td>1.0</td>\n",
              "      <td>0.0</td>\n",
              "      <td>NaN</td>\n",
              "      <td>NaN</td>\n",
              "      <td>NaN</td>\n",
              "      <td>NaN</td>\n",
              "      <td>0.026</td>\n",
              "      <td>0.000</td>\n",
              "      <td>NaN</td>\n",
              "      <td>NaN</td>\n",
              "      <td>NaN</td>\n",
              "      <td>NaN</td>\n",
              "      <td>NaN</td>\n",
              "      <td>NaN</td>\n",
              "      <td>NaN</td>\n",
              "      <td>NaN</td>\n",
              "      <td>NaN</td>\n",
              "      <td>NaN</td>\n",
              "      <td>NaN</td>\n",
              "      <td>NaN</td>\n",
              "      <td>NaN</td>\n",
              "      <td>NaN</td>\n",
              "      <td>NaN</td>\n",
              "      <td>NaN</td>\n",
              "      <td>NaN</td>\n",
              "      <td>NaN</td>\n",
              "      <td>NaN</td>\n",
              "      <td>NaN</td>\n",
              "      <td>NaN</td>\n",
              "      <td>NaN</td>\n",
              "      <td>NaN</td>\n",
              "      <td>NaN</td>\n",
              "      <td>NaN</td>\n",
              "      <td>NaN</td>\n",
              "      <td>NaN</td>\n",
              "      <td>NaN</td>\n",
              "      <td>NaN</td>\n",
              "      <td>NaN</td>\n",
              "      <td>NaN</td>\n",
              "      <td>8.33</td>\n",
              "      <td>38928341.0</td>\n",
              "      <td>54.422</td>\n",
              "      <td>18.6</td>\n",
              "      <td>2.581</td>\n",
              "      <td>1.337</td>\n",
              "      <td>1803.987</td>\n",
              "      <td>NaN</td>\n",
              "      <td>597.029</td>\n",
              "      <td>9.59</td>\n",
              "      <td>NaN</td>\n",
              "      <td>NaN</td>\n",
              "      <td>37.746</td>\n",
              "      <td>0.5</td>\n",
              "      <td>64.83</td>\n",
              "      <td>0.511</td>\n",
              "      <td>NaN</td>\n",
              "    </tr>\n",
              "    <tr>\n",
              "      <th>3</th>\n",
              "      <td>AFG</td>\n",
              "      <td>Asia</td>\n",
              "      <td>Afghanistan</td>\n",
              "      <td>2020-02-27</td>\n",
              "      <td>1.0</td>\n",
              "      <td>0.0</td>\n",
              "      <td>NaN</td>\n",
              "      <td>NaN</td>\n",
              "      <td>NaN</td>\n",
              "      <td>NaN</td>\n",
              "      <td>0.026</td>\n",
              "      <td>0.000</td>\n",
              "      <td>NaN</td>\n",
              "      <td>NaN</td>\n",
              "      <td>NaN</td>\n",
              "      <td>NaN</td>\n",
              "      <td>NaN</td>\n",
              "      <td>NaN</td>\n",
              "      <td>NaN</td>\n",
              "      <td>NaN</td>\n",
              "      <td>NaN</td>\n",
              "      <td>NaN</td>\n",
              "      <td>NaN</td>\n",
              "      <td>NaN</td>\n",
              "      <td>NaN</td>\n",
              "      <td>NaN</td>\n",
              "      <td>NaN</td>\n",
              "      <td>NaN</td>\n",
              "      <td>NaN</td>\n",
              "      <td>NaN</td>\n",
              "      <td>NaN</td>\n",
              "      <td>NaN</td>\n",
              "      <td>NaN</td>\n",
              "      <td>NaN</td>\n",
              "      <td>NaN</td>\n",
              "      <td>NaN</td>\n",
              "      <td>NaN</td>\n",
              "      <td>NaN</td>\n",
              "      <td>NaN</td>\n",
              "      <td>NaN</td>\n",
              "      <td>NaN</td>\n",
              "      <td>NaN</td>\n",
              "      <td>NaN</td>\n",
              "      <td>8.33</td>\n",
              "      <td>38928341.0</td>\n",
              "      <td>54.422</td>\n",
              "      <td>18.6</td>\n",
              "      <td>2.581</td>\n",
              "      <td>1.337</td>\n",
              "      <td>1803.987</td>\n",
              "      <td>NaN</td>\n",
              "      <td>597.029</td>\n",
              "      <td>9.59</td>\n",
              "      <td>NaN</td>\n",
              "      <td>NaN</td>\n",
              "      <td>37.746</td>\n",
              "      <td>0.5</td>\n",
              "      <td>64.83</td>\n",
              "      <td>0.511</td>\n",
              "      <td>NaN</td>\n",
              "    </tr>\n",
              "    <tr>\n",
              "      <th>4</th>\n",
              "      <td>AFG</td>\n",
              "      <td>Asia</td>\n",
              "      <td>Afghanistan</td>\n",
              "      <td>2020-02-28</td>\n",
              "      <td>1.0</td>\n",
              "      <td>0.0</td>\n",
              "      <td>NaN</td>\n",
              "      <td>NaN</td>\n",
              "      <td>NaN</td>\n",
              "      <td>NaN</td>\n",
              "      <td>0.026</td>\n",
              "      <td>0.000</td>\n",
              "      <td>NaN</td>\n",
              "      <td>NaN</td>\n",
              "      <td>NaN</td>\n",
              "      <td>NaN</td>\n",
              "      <td>NaN</td>\n",
              "      <td>NaN</td>\n",
              "      <td>NaN</td>\n",
              "      <td>NaN</td>\n",
              "      <td>NaN</td>\n",
              "      <td>NaN</td>\n",
              "      <td>NaN</td>\n",
              "      <td>NaN</td>\n",
              "      <td>NaN</td>\n",
              "      <td>NaN</td>\n",
              "      <td>NaN</td>\n",
              "      <td>NaN</td>\n",
              "      <td>NaN</td>\n",
              "      <td>NaN</td>\n",
              "      <td>NaN</td>\n",
              "      <td>NaN</td>\n",
              "      <td>NaN</td>\n",
              "      <td>NaN</td>\n",
              "      <td>NaN</td>\n",
              "      <td>NaN</td>\n",
              "      <td>NaN</td>\n",
              "      <td>NaN</td>\n",
              "      <td>NaN</td>\n",
              "      <td>NaN</td>\n",
              "      <td>NaN</td>\n",
              "      <td>NaN</td>\n",
              "      <td>NaN</td>\n",
              "      <td>8.33</td>\n",
              "      <td>38928341.0</td>\n",
              "      <td>54.422</td>\n",
              "      <td>18.6</td>\n",
              "      <td>2.581</td>\n",
              "      <td>1.337</td>\n",
              "      <td>1803.987</td>\n",
              "      <td>NaN</td>\n",
              "      <td>597.029</td>\n",
              "      <td>9.59</td>\n",
              "      <td>NaN</td>\n",
              "      <td>NaN</td>\n",
              "      <td>37.746</td>\n",
              "      <td>0.5</td>\n",
              "      <td>64.83</td>\n",
              "      <td>0.511</td>\n",
              "      <td>NaN</td>\n",
              "    </tr>\n",
              "  </tbody>\n",
              "</table>\n",
              "</div>"
            ],
            "text/plain": [
              "  iso_code continent  ... human_development_index excess_mortality\n",
              "0      AFG      Asia  ...                   0.511              NaN\n",
              "1      AFG      Asia  ...                   0.511              NaN\n",
              "2      AFG      Asia  ...                   0.511              NaN\n",
              "3      AFG      Asia  ...                   0.511              NaN\n",
              "4      AFG      Asia  ...                   0.511              NaN\n",
              "\n",
              "[5 rows x 60 columns]"
            ]
          },
          "metadata": {
            "tags": []
          },
          "execution_count": 120
        }
      ]
    },
    {
      "cell_type": "markdown",
      "metadata": {
        "id": "OpBmbqhn1G4X"
      },
      "source": [
        "Nestas 5 primeiras entradas podemos observar muitos valores ausentes."
      ]
    },
    {
      "cell_type": "markdown",
      "metadata": {
        "id": "ZLaY33Mq1aJS"
      },
      "source": [
        "**Visualizar o tamanho do DataFrame**"
      ]
    },
    {
      "cell_type": "code",
      "metadata": {
        "colab": {
          "base_uri": "https://localhost:8080/"
        },
        "id": "W1RKr1x31xRw",
        "outputId": "5ba05f20-c946-42b3-d4ea-1c85e1d72be9"
      },
      "source": [
        "df.shape"
      ],
      "execution_count": 121,
      "outputs": [
        {
          "output_type": "execute_result",
          "data": {
            "text/plain": [
              "(107266, 60)"
            ]
          },
          "metadata": {
            "tags": []
          },
          "execution_count": 121
        }
      ]
    },
    {
      "cell_type": "markdown",
      "metadata": {
        "id": "MXX_1Eje1zaI"
      },
      "source": [
        "Nosso Dataframe possui 107059 linhas e 60 colunas."
      ]
    },
    {
      "cell_type": "markdown",
      "metadata": {
        "id": "gSm5dJXv2fdm"
      },
      "source": [
        "**Resumo Estatistico do DataFrame**"
      ]
    },
    {
      "cell_type": "code",
      "metadata": {
        "colab": {
          "base_uri": "https://localhost:8080/",
          "height": 317
        },
        "id": "YZnhoN6-2n8L",
        "outputId": "76065ee2-8b1b-4f94-a847-58d7423c9461"
      },
      "source": [
        "df.describe()"
      ],
      "execution_count": 122,
      "outputs": [
        {
          "output_type": "execute_result",
          "data": {
            "text/html": [
              "<div>\n",
              "<style scoped>\n",
              "    .dataframe tbody tr th:only-of-type {\n",
              "        vertical-align: middle;\n",
              "    }\n",
              "\n",
              "    .dataframe tbody tr th {\n",
              "        vertical-align: top;\n",
              "    }\n",
              "\n",
              "    .dataframe thead th {\n",
              "        text-align: right;\n",
              "    }\n",
              "</style>\n",
              "<table border=\"1\" class=\"dataframe\">\n",
              "  <thead>\n",
              "    <tr style=\"text-align: right;\">\n",
              "      <th></th>\n",
              "      <th>total_cases</th>\n",
              "      <th>new_cases</th>\n",
              "      <th>new_cases_smoothed</th>\n",
              "      <th>total_deaths</th>\n",
              "      <th>new_deaths</th>\n",
              "      <th>new_deaths_smoothed</th>\n",
              "      <th>total_cases_per_million</th>\n",
              "      <th>new_cases_per_million</th>\n",
              "      <th>new_cases_smoothed_per_million</th>\n",
              "      <th>total_deaths_per_million</th>\n",
              "      <th>new_deaths_per_million</th>\n",
              "      <th>new_deaths_smoothed_per_million</th>\n",
              "      <th>reproduction_rate</th>\n",
              "      <th>icu_patients</th>\n",
              "      <th>icu_patients_per_million</th>\n",
              "      <th>hosp_patients</th>\n",
              "      <th>hosp_patients_per_million</th>\n",
              "      <th>weekly_icu_admissions</th>\n",
              "      <th>weekly_icu_admissions_per_million</th>\n",
              "      <th>weekly_hosp_admissions</th>\n",
              "      <th>weekly_hosp_admissions_per_million</th>\n",
              "      <th>new_tests</th>\n",
              "      <th>total_tests</th>\n",
              "      <th>total_tests_per_thousand</th>\n",
              "      <th>new_tests_per_thousand</th>\n",
              "      <th>new_tests_smoothed</th>\n",
              "      <th>new_tests_smoothed_per_thousand</th>\n",
              "      <th>positive_rate</th>\n",
              "      <th>tests_per_case</th>\n",
              "      <th>total_vaccinations</th>\n",
              "      <th>people_vaccinated</th>\n",
              "      <th>people_fully_vaccinated</th>\n",
              "      <th>new_vaccinations</th>\n",
              "      <th>new_vaccinations_smoothed</th>\n",
              "      <th>total_vaccinations_per_hundred</th>\n",
              "      <th>people_vaccinated_per_hundred</th>\n",
              "      <th>people_fully_vaccinated_per_hundred</th>\n",
              "      <th>new_vaccinations_smoothed_per_million</th>\n",
              "      <th>stringency_index</th>\n",
              "      <th>population</th>\n",
              "      <th>population_density</th>\n",
              "      <th>median_age</th>\n",
              "      <th>aged_65_older</th>\n",
              "      <th>aged_70_older</th>\n",
              "      <th>gdp_per_capita</th>\n",
              "      <th>extreme_poverty</th>\n",
              "      <th>cardiovasc_death_rate</th>\n",
              "      <th>diabetes_prevalence</th>\n",
              "      <th>female_smokers</th>\n",
              "      <th>male_smokers</th>\n",
              "      <th>handwashing_facilities</th>\n",
              "      <th>hospital_beds_per_thousand</th>\n",
              "      <th>life_expectancy</th>\n",
              "      <th>human_development_index</th>\n",
              "      <th>excess_mortality</th>\n",
              "    </tr>\n",
              "  </thead>\n",
              "  <tbody>\n",
              "    <tr>\n",
              "      <th>count</th>\n",
              "      <td>1.028150e+05</td>\n",
              "      <td>102812.000000</td>\n",
              "      <td>101802.000000</td>\n",
              "      <td>9.244400e+04</td>\n",
              "      <td>92599.000000</td>\n",
              "      <td>101802.000000</td>\n",
              "      <td>102270.000000</td>\n",
              "      <td>102267.000000</td>\n",
              "      <td>101262.000000</td>\n",
              "      <td>91912.000000</td>\n",
              "      <td>92067.000000</td>\n",
              "      <td>101262.000000</td>\n",
              "      <td>86297.000000</td>\n",
              "      <td>11044.000000</td>\n",
              "      <td>11044.000000</td>\n",
              "      <td>13327.000000</td>\n",
              "      <td>13327.000000</td>\n",
              "      <td>980.000000</td>\n",
              "      <td>980.000000</td>\n",
              "      <td>1883.000000</td>\n",
              "      <td>1883.000000</td>\n",
              "      <td>4.732900e+04</td>\n",
              "      <td>4.706400e+04</td>\n",
              "      <td>47064.000000</td>\n",
              "      <td>47329.000000</td>\n",
              "      <td>5.553300e+04</td>\n",
              "      <td>55533.000000</td>\n",
              "      <td>51883.000000</td>\n",
              "      <td>51251.000000</td>\n",
              "      <td>2.056400e+04</td>\n",
              "      <td>1.968100e+04</td>\n",
              "      <td>1.671800e+04</td>\n",
              "      <td>1.711900e+04</td>\n",
              "      <td>3.603100e+04</td>\n",
              "      <td>20564.000000</td>\n",
              "      <td>19681.000000</td>\n",
              "      <td>16718.000000</td>\n",
              "      <td>36031.000000</td>\n",
              "      <td>89494.000000</td>\n",
              "      <td>1.065560e+05</td>\n",
              "      <td>99520.000000</td>\n",
              "      <td>95490.000000</td>\n",
              "      <td>94422.000000</td>\n",
              "      <td>94964.000000</td>\n",
              "      <td>95893.000000</td>\n",
              "      <td>64555.000000</td>\n",
              "      <td>95825.000000</td>\n",
              "      <td>98456.000000</td>\n",
              "      <td>74897.000000</td>\n",
              "      <td>73803.000000</td>\n",
              "      <td>48128.000000</td>\n",
              "      <td>87221.000000</td>\n",
              "      <td>101799.000000</td>\n",
              "      <td>95936.000000</td>\n",
              "      <td>3725.000000</td>\n",
              "    </tr>\n",
              "    <tr>\n",
              "      <th>mean</th>\n",
              "      <td>1.193631e+06</td>\n",
              "      <td>6169.417529</td>\n",
              "      <td>6175.006292</td>\n",
              "      <td>3.153835e+04</td>\n",
              "      <td>145.671303</td>\n",
              "      <td>131.668447</td>\n",
              "      <td>14759.060207</td>\n",
              "      <td>77.637921</td>\n",
              "      <td>77.737492</td>\n",
              "      <td>320.264396</td>\n",
              "      <td>1.538444</td>\n",
              "      <td>1.391216</td>\n",
              "      <td>1.008779</td>\n",
              "      <td>993.731257</td>\n",
              "      <td>24.393206</td>\n",
              "      <td>4421.999475</td>\n",
              "      <td>160.185367</td>\n",
              "      <td>249.428838</td>\n",
              "      <td>19.212881</td>\n",
              "      <td>3033.048147</td>\n",
              "      <td>93.974713</td>\n",
              "      <td>4.974860e+04</td>\n",
              "      <td>8.633735e+06</td>\n",
              "      <td>355.976381</td>\n",
              "      <td>2.239740</td>\n",
              "      <td>4.691103e+04</td>\n",
              "      <td>2.137848</td>\n",
              "      <td>0.088088</td>\n",
              "      <td>163.216712</td>\n",
              "      <td>4.400714e+07</td>\n",
              "      <td>2.377887e+07</td>\n",
              "      <td>1.351546e+07</td>\n",
              "      <td>7.576620e+05</td>\n",
              "      <td>3.619655e+05</td>\n",
              "      <td>31.383930</td>\n",
              "      <td>19.750347</td>\n",
              "      <td>13.515992</td>\n",
              "      <td>3427.540673</td>\n",
              "      <td>57.829542</td>\n",
              "      <td>1.234520e+08</td>\n",
              "      <td>390.881955</td>\n",
              "      <td>30.547048</td>\n",
              "      <td>8.779737</td>\n",
              "      <td>5.557072</td>\n",
              "      <td>19278.940146</td>\n",
              "      <td>13.438744</td>\n",
              "      <td>258.779839</td>\n",
              "      <td>7.957710</td>\n",
              "      <td>10.583269</td>\n",
              "      <td>32.716946</td>\n",
              "      <td>50.794942</td>\n",
              "      <td>3.026309</td>\n",
              "      <td>73.244093</td>\n",
              "      <td>0.727028</td>\n",
              "      <td>18.104999</td>\n",
              "    </tr>\n",
              "    <tr>\n",
              "      <th>std</th>\n",
              "      <td>8.094501e+06</td>\n",
              "      <td>38096.784385</td>\n",
              "      <td>37716.260706</td>\n",
              "      <td>1.882747e+05</td>\n",
              "      <td>796.086467</td>\n",
              "      <td>741.399708</td>\n",
              "      <td>26381.218024</td>\n",
              "      <td>201.717130</td>\n",
              "      <td>159.019709</td>\n",
              "      <td>566.108950</td>\n",
              "      <td>3.950405</td>\n",
              "      <td>3.010695</td>\n",
              "      <td>0.351540</td>\n",
              "      <td>2779.628145</td>\n",
              "      <td>26.558178</td>\n",
              "      <td>11539.242250</td>\n",
              "      <td>206.097832</td>\n",
              "      <td>543.469432</td>\n",
              "      <td>34.267665</td>\n",
              "      <td>9948.890791</td>\n",
              "      <td>198.509191</td>\n",
              "      <td>1.807095e+05</td>\n",
              "      <td>3.755107e+07</td>\n",
              "      <td>852.719959</td>\n",
              "      <td>6.252044</td>\n",
              "      <td>1.636736e+05</td>\n",
              "      <td>5.326827</td>\n",
              "      <td>0.097198</td>\n",
              "      <td>886.162332</td>\n",
              "      <td>2.426267e+08</td>\n",
              "      <td>1.321951e+08</td>\n",
              "      <td>6.764714e+07</td>\n",
              "      <td>3.545505e+06</td>\n",
              "      <td>2.382398e+06</td>\n",
              "      <td>36.850445</td>\n",
              "      <td>21.126261</td>\n",
              "      <td>17.066593</td>\n",
              "      <td>4590.224479</td>\n",
              "      <td>20.938646</td>\n",
              "      <td>6.763436e+08</td>\n",
              "      <td>1821.279466</td>\n",
              "      <td>9.128672</td>\n",
              "      <td>6.203771</td>\n",
              "      <td>4.231384</td>\n",
              "      <td>20024.320970</td>\n",
              "      <td>19.971931</td>\n",
              "      <td>119.139410</td>\n",
              "      <td>4.188939</td>\n",
              "      <td>10.484517</td>\n",
              "      <td>13.491054</td>\n",
              "      <td>31.756774</td>\n",
              "      <td>2.456263</td>\n",
              "      <td>7.553855</td>\n",
              "      <td>0.150300</td>\n",
              "      <td>35.455622</td>\n",
              "    </tr>\n",
              "    <tr>\n",
              "      <th>min</th>\n",
              "      <td>1.000000e+00</td>\n",
              "      <td>-74347.000000</td>\n",
              "      <td>-6223.000000</td>\n",
              "      <td>1.000000e+00</td>\n",
              "      <td>-1918.000000</td>\n",
              "      <td>-232.143000</td>\n",
              "      <td>0.001000</td>\n",
              "      <td>-3162.163000</td>\n",
              "      <td>-276.825000</td>\n",
              "      <td>0.001000</td>\n",
              "      <td>-76.445000</td>\n",
              "      <td>-10.921000</td>\n",
              "      <td>-0.010000</td>\n",
              "      <td>0.000000</td>\n",
              "      <td>0.000000</td>\n",
              "      <td>0.000000</td>\n",
              "      <td>0.000000</td>\n",
              "      <td>0.000000</td>\n",
              "      <td>0.000000</td>\n",
              "      <td>0.000000</td>\n",
              "      <td>0.000000</td>\n",
              "      <td>-2.391720e+05</td>\n",
              "      <td>0.000000e+00</td>\n",
              "      <td>0.000000</td>\n",
              "      <td>-6.320000</td>\n",
              "      <td>0.000000e+00</td>\n",
              "      <td>0.000000</td>\n",
              "      <td>0.000000</td>\n",
              "      <td>1.100000</td>\n",
              "      <td>0.000000e+00</td>\n",
              "      <td>0.000000e+00</td>\n",
              "      <td>1.000000e+00</td>\n",
              "      <td>0.000000e+00</td>\n",
              "      <td>0.000000e+00</td>\n",
              "      <td>0.000000</td>\n",
              "      <td>0.000000</td>\n",
              "      <td>0.000000</td>\n",
              "      <td>0.000000</td>\n",
              "      <td>0.000000</td>\n",
              "      <td>4.700000e+01</td>\n",
              "      <td>0.137000</td>\n",
              "      <td>15.100000</td>\n",
              "      <td>1.144000</td>\n",
              "      <td>0.526000</td>\n",
              "      <td>661.240000</td>\n",
              "      <td>0.100000</td>\n",
              "      <td>79.370000</td>\n",
              "      <td>0.990000</td>\n",
              "      <td>0.100000</td>\n",
              "      <td>7.700000</td>\n",
              "      <td>1.188000</td>\n",
              "      <td>0.100000</td>\n",
              "      <td>53.280000</td>\n",
              "      <td>0.394000</td>\n",
              "      <td>-95.590000</td>\n",
              "    </tr>\n",
              "    <tr>\n",
              "      <th>25%</th>\n",
              "      <td>1.503000e+03</td>\n",
              "      <td>2.000000</td>\n",
              "      <td>8.000000</td>\n",
              "      <td>5.900000e+01</td>\n",
              "      <td>0.000000</td>\n",
              "      <td>0.000000</td>\n",
              "      <td>288.110000</td>\n",
              "      <td>0.241500</td>\n",
              "      <td>1.388250</td>\n",
              "      <td>8.887000</td>\n",
              "      <td>0.000000</td>\n",
              "      <td>0.000000</td>\n",
              "      <td>0.840000</td>\n",
              "      <td>29.000000</td>\n",
              "      <td>3.847250</td>\n",
              "      <td>107.000000</td>\n",
              "      <td>21.063000</td>\n",
              "      <td>7.985000</td>\n",
              "      <td>1.768250</td>\n",
              "      <td>35.496000</td>\n",
              "      <td>7.568500</td>\n",
              "      <td>1.745000e+03</td>\n",
              "      <td>1.802748e+05</td>\n",
              "      <td>15.940500</td>\n",
              "      <td>0.154000</td>\n",
              "      <td>1.845000e+03</td>\n",
              "      <td>0.158000</td>\n",
              "      <td>0.016000</td>\n",
              "      <td>7.800000</td>\n",
              "      <td>1.602788e+05</td>\n",
              "      <td>1.316770e+05</td>\n",
              "      <td>6.296825e+04</td>\n",
              "      <td>5.061500e+03</td>\n",
              "      <td>8.780000e+02</td>\n",
              "      <td>3.140000</td>\n",
              "      <td>2.550000</td>\n",
              "      <td>1.390000</td>\n",
              "      <td>417.000000</td>\n",
              "      <td>43.520000</td>\n",
              "      <td>2.083380e+06</td>\n",
              "      <td>36.253000</td>\n",
              "      <td>22.200000</td>\n",
              "      <td>3.466000</td>\n",
              "      <td>2.063000</td>\n",
              "      <td>4466.507000</td>\n",
              "      <td>0.600000</td>\n",
              "      <td>168.711000</td>\n",
              "      <td>5.310000</td>\n",
              "      <td>1.900000</td>\n",
              "      <td>21.600000</td>\n",
              "      <td>19.351000</td>\n",
              "      <td>1.300000</td>\n",
              "      <td>67.920000</td>\n",
              "      <td>0.602000</td>\n",
              "      <td>0.480000</td>\n",
              "    </tr>\n",
              "    <tr>\n",
              "      <th>50%</th>\n",
              "      <td>1.569600e+04</td>\n",
              "      <td>78.000000</td>\n",
              "      <td>97.071500</td>\n",
              "      <td>4.600000e+02</td>\n",
              "      <td>2.000000</td>\n",
              "      <td>1.429000</td>\n",
              "      <td>2135.778000</td>\n",
              "      <td>9.126000</td>\n",
              "      <td>12.142000</td>\n",
              "      <td>58.837000</td>\n",
              "      <td>0.134000</td>\n",
              "      <td>0.167000</td>\n",
              "      <td>1.010000</td>\n",
              "      <td>147.000000</td>\n",
              "      <td>13.976500</td>\n",
              "      <td>589.000000</td>\n",
              "      <td>73.163000</td>\n",
              "      <td>40.232500</td>\n",
              "      <td>7.714000</td>\n",
              "      <td>249.841000</td>\n",
              "      <td>31.347000</td>\n",
              "      <td>6.448000e+03</td>\n",
              "      <td>9.174410e+05</td>\n",
              "      <td>79.824500</td>\n",
              "      <td>0.652000</td>\n",
              "      <td>6.934000e+03</td>\n",
              "      <td>0.692000</td>\n",
              "      <td>0.051000</td>\n",
              "      <td>19.000000</td>\n",
              "      <td>1.220504e+06</td>\n",
              "      <td>8.521890e+05</td>\n",
              "      <td>5.178015e+05</td>\n",
              "      <td>2.931100e+04</td>\n",
              "      <td>7.252000e+03</td>\n",
              "      <td>16.000000</td>\n",
              "      <td>11.250000</td>\n",
              "      <td>6.175000</td>\n",
              "      <td>1928.000000</td>\n",
              "      <td>59.720000</td>\n",
              "      <td>9.660350e+06</td>\n",
              "      <td>83.479000</td>\n",
              "      <td>29.700000</td>\n",
              "      <td>6.378000</td>\n",
              "      <td>3.871000</td>\n",
              "      <td>12951.839000</td>\n",
              "      <td>2.200000</td>\n",
              "      <td>242.648000</td>\n",
              "      <td>7.110000</td>\n",
              "      <td>6.300000</td>\n",
              "      <td>31.400000</td>\n",
              "      <td>49.839000</td>\n",
              "      <td>2.400000</td>\n",
              "      <td>74.620000</td>\n",
              "      <td>0.744000</td>\n",
              "      <td>7.480000</td>\n",
              "    </tr>\n",
              "    <tr>\n",
              "      <th>75%</th>\n",
              "      <td>1.664740e+05</td>\n",
              "      <td>850.000000</td>\n",
              "      <td>898.107250</td>\n",
              "      <td>4.417000e+03</td>\n",
              "      <td>18.000000</td>\n",
              "      <td>14.857000</td>\n",
              "      <td>15949.885750</td>\n",
              "      <td>72.750500</td>\n",
              "      <td>80.847500</td>\n",
              "      <td>360.263250</td>\n",
              "      <td>1.305000</td>\n",
              "      <td>1.280750</td>\n",
              "      <td>1.180000</td>\n",
              "      <td>655.000000</td>\n",
              "      <td>38.288000</td>\n",
              "      <td>2554.500000</td>\n",
              "      <td>226.842500</td>\n",
              "      <td>190.875250</td>\n",
              "      <td>21.333250</td>\n",
              "      <td>1307.878500</td>\n",
              "      <td>105.596000</td>\n",
              "      <td>2.474500e+04</td>\n",
              "      <td>3.813838e+06</td>\n",
              "      <td>331.874250</td>\n",
              "      <td>2.031000</td>\n",
              "      <td>2.742700e+04</td>\n",
              "      <td>2.083000</td>\n",
              "      <td>0.128000</td>\n",
              "      <td>58.000000</td>\n",
              "      <td>7.815563e+06</td>\n",
              "      <td>4.946738e+06</td>\n",
              "      <td>3.222576e+06</td>\n",
              "      <td>1.629185e+05</td>\n",
              "      <td>4.882600e+04</td>\n",
              "      <td>48.470000</td>\n",
              "      <td>32.120000</td>\n",
              "      <td>19.510000</td>\n",
              "      <td>4995.500000</td>\n",
              "      <td>74.070000</td>\n",
              "      <td>3.346920e+07</td>\n",
              "      <td>209.588000</td>\n",
              "      <td>39.100000</td>\n",
              "      <td>14.312000</td>\n",
              "      <td>8.678000</td>\n",
              "      <td>27216.445000</td>\n",
              "      <td>21.200000</td>\n",
              "      <td>329.942000</td>\n",
              "      <td>10.080000</td>\n",
              "      <td>19.300000</td>\n",
              "      <td>41.100000</td>\n",
              "      <td>83.241000</td>\n",
              "      <td>3.861000</td>\n",
              "      <td>78.740000</td>\n",
              "      <td>0.848000</td>\n",
              "      <td>23.990000</td>\n",
              "    </tr>\n",
              "    <tr>\n",
              "      <th>max</th>\n",
              "      <td>2.002370e+08</td>\n",
              "      <td>905993.000000</td>\n",
              "      <td>826368.143000</td>\n",
              "      <td>4.256785e+06</td>\n",
              "      <td>18000.000000</td>\n",
              "      <td>14726.429000</td>\n",
              "      <td>191509.739000</td>\n",
              "      <td>18293.675000</td>\n",
              "      <td>4083.500000</td>\n",
              "      <td>5964.877000</td>\n",
              "      <td>218.329000</td>\n",
              "      <td>63.140000</td>\n",
              "      <td>5.810000</td>\n",
              "      <td>28889.000000</td>\n",
              "      <td>192.735000</td>\n",
              "      <td>133214.000000</td>\n",
              "      <td>1532.573000</td>\n",
              "      <td>4002.456000</td>\n",
              "      <td>279.411000</td>\n",
              "      <td>116323.000000</td>\n",
              "      <td>2656.911000</td>\n",
              "      <td>3.740296e+06</td>\n",
              "      <td>4.893542e+08</td>\n",
              "      <td>11494.626000</td>\n",
              "      <td>327.086000</td>\n",
              "      <td>3.080396e+06</td>\n",
              "      <td>90.849000</td>\n",
              "      <td>0.933000</td>\n",
              "      <td>50000.000000</td>\n",
              "      <td>4.318300e+09</td>\n",
              "      <td>2.287589e+09</td>\n",
              "      <td>1.172440e+09</td>\n",
              "      <td>5.521407e+07</td>\n",
              "      <td>4.337093e+07</td>\n",
              "      <td>232.880000</td>\n",
              "      <td>116.770000</td>\n",
              "      <td>116.110000</td>\n",
              "      <td>118759.000000</td>\n",
              "      <td>100.000000</td>\n",
              "      <td>7.794799e+09</td>\n",
              "      <td>20546.766000</td>\n",
              "      <td>48.200000</td>\n",
              "      <td>27.049000</td>\n",
              "      <td>18.493000</td>\n",
              "      <td>116935.600000</td>\n",
              "      <td>77.600000</td>\n",
              "      <td>724.417000</td>\n",
              "      <td>30.530000</td>\n",
              "      <td>44.000000</td>\n",
              "      <td>78.100000</td>\n",
              "      <td>100.000000</td>\n",
              "      <td>13.800000</td>\n",
              "      <td>86.750000</td>\n",
              "      <td>0.957000</td>\n",
              "      <td>410.330000</td>\n",
              "    </tr>\n",
              "  </tbody>\n",
              "</table>\n",
              "</div>"
            ],
            "text/plain": [
              "        total_cases      new_cases  ...  human_development_index  excess_mortality\n",
              "count  1.028150e+05  102812.000000  ...             95936.000000       3725.000000\n",
              "mean   1.193631e+06    6169.417529  ...                 0.727028         18.104999\n",
              "std    8.094501e+06   38096.784385  ...                 0.150300         35.455622\n",
              "min    1.000000e+00  -74347.000000  ...                 0.394000        -95.590000\n",
              "25%    1.503000e+03       2.000000  ...                 0.602000          0.480000\n",
              "50%    1.569600e+04      78.000000  ...                 0.744000          7.480000\n",
              "75%    1.664740e+05     850.000000  ...                 0.848000         23.990000\n",
              "max    2.002370e+08  905993.000000  ...                 0.957000        410.330000\n",
              "\n",
              "[8 rows x 55 columns]"
            ]
          },
          "metadata": {
            "tags": []
          },
          "execution_count": 122
        }
      ]
    },
    {
      "cell_type": "markdown",
      "metadata": {
        "id": "sF_rS7852pxl"
      },
      "source": [
        "**Visualizando os tipos de dados das variaveis**"
      ]
    },
    {
      "cell_type": "code",
      "metadata": {
        "colab": {
          "base_uri": "https://localhost:8080/"
        },
        "id": "KbET9TDj22XS",
        "outputId": "210e26fc-8e38-4d0e-d450-e34525a603fc"
      },
      "source": [
        "df.dtypes"
      ],
      "execution_count": 123,
      "outputs": [
        {
          "output_type": "execute_result",
          "data": {
            "text/plain": [
              "iso_code                                         object\n",
              "continent                                        object\n",
              "location                                         object\n",
              "date                                     datetime64[ns]\n",
              "total_cases                                     float64\n",
              "new_cases                                       float64\n",
              "new_cases_smoothed                              float64\n",
              "total_deaths                                    float64\n",
              "new_deaths                                      float64\n",
              "new_deaths_smoothed                             float64\n",
              "total_cases_per_million                         float64\n",
              "new_cases_per_million                           float64\n",
              "new_cases_smoothed_per_million                  float64\n",
              "total_deaths_per_million                        float64\n",
              "new_deaths_per_million                          float64\n",
              "new_deaths_smoothed_per_million                 float64\n",
              "reproduction_rate                               float64\n",
              "icu_patients                                    float64\n",
              "icu_patients_per_million                        float64\n",
              "hosp_patients                                   float64\n",
              "hosp_patients_per_million                       float64\n",
              "weekly_icu_admissions                           float64\n",
              "weekly_icu_admissions_per_million               float64\n",
              "weekly_hosp_admissions                          float64\n",
              "weekly_hosp_admissions_per_million              float64\n",
              "new_tests                                       float64\n",
              "total_tests                                     float64\n",
              "total_tests_per_thousand                        float64\n",
              "new_tests_per_thousand                          float64\n",
              "new_tests_smoothed                              float64\n",
              "new_tests_smoothed_per_thousand                 float64\n",
              "positive_rate                                   float64\n",
              "tests_per_case                                  float64\n",
              "tests_units                                      object\n",
              "total_vaccinations                              float64\n",
              "people_vaccinated                               float64\n",
              "people_fully_vaccinated                         float64\n",
              "new_vaccinations                                float64\n",
              "new_vaccinations_smoothed                       float64\n",
              "total_vaccinations_per_hundred                  float64\n",
              "people_vaccinated_per_hundred                   float64\n",
              "people_fully_vaccinated_per_hundred             float64\n",
              "new_vaccinations_smoothed_per_million           float64\n",
              "stringency_index                                float64\n",
              "population                                      float64\n",
              "population_density                              float64\n",
              "median_age                                      float64\n",
              "aged_65_older                                   float64\n",
              "aged_70_older                                   float64\n",
              "gdp_per_capita                                  float64\n",
              "extreme_poverty                                 float64\n",
              "cardiovasc_death_rate                           float64\n",
              "diabetes_prevalence                             float64\n",
              "female_smokers                                  float64\n",
              "male_smokers                                    float64\n",
              "handwashing_facilities                          float64\n",
              "hospital_beds_per_thousand                      float64\n",
              "life_expectancy                                 float64\n",
              "human_development_index                         float64\n",
              "excess_mortality                                float64\n",
              "dtype: object"
            ]
          },
          "metadata": {
            "tags": []
          },
          "execution_count": 123
        }
      ]
    },
    {
      "cell_type": "markdown",
      "metadata": {
        "id": "iHs4pcSE23qC"
      },
      "source": [
        "<p align=\"justify\">Como observamos acim, nosso DataFrame possui 60 colunas, porém neste projeto usaremos somente 17 colunas, tendo em vista que as demais diz respeito a vacinação, testes, entre outros. Observamos que a coluna data está como String, e abaixo iremos transformar a coluna data em datetime.</p>"
      ]
    },
    {
      "cell_type": "markdown",
      "metadata": {
        "id": "Wp28rRzq35Ch"
      },
      "source": [
        "**Transformando a coluna data em datetime**"
      ]
    },
    {
      "cell_type": "code",
      "metadata": {
        "id": "Pp8ASunl39Qm"
      },
      "source": [
        "df.date = pd.to_datetime(df.date)"
      ],
      "execution_count": 124,
      "outputs": []
    },
    {
      "cell_type": "markdown",
      "metadata": {
        "id": "5y-LkW4T4fzD"
      },
      "source": [
        "**Visualizando a porcentagem de valores ausentes das colunas**"
      ]
    },
    {
      "cell_type": "code",
      "metadata": {
        "colab": {
          "base_uri": "https://localhost:8080/"
        },
        "id": "yf3ibOBz5NGm",
        "outputId": "b018149d-67bb-460c-bb9e-e4fa5459b3d3"
      },
      "source": [
        "df.isnull().sum() / df.shape[0] * 100"
      ],
      "execution_count": 125,
      "outputs": [
        {
          "output_type": "execute_result",
          "data": {
            "text/plain": [
              "iso_code                                  0.000000\n",
              "continent                                 4.638003\n",
              "location                                  0.000000\n",
              "date                                      0.000000\n",
              "total_cases                               4.149498\n",
              "new_cases                                 4.152294\n",
              "new_cases_smoothed                        5.093879\n",
              "total_deaths                             13.817985\n",
              "new_deaths                               13.673485\n",
              "new_deaths_smoothed                       5.093879\n",
              "total_cases_per_million                   4.657580\n",
              "new_cases_per_million                     4.660377\n",
              "new_cases_smoothed_per_million            5.597300\n",
              "total_deaths_per_million                 14.313949\n",
              "new_deaths_per_million                   14.169448\n",
              "new_deaths_smoothed_per_million           5.597300\n",
              "reproduction_rate                        19.548599\n",
              "icu_patients                             89.704100\n",
              "icu_patients_per_million                 89.704100\n",
              "hosp_patients                            87.575746\n",
              "hosp_patients_per_million                87.575746\n",
              "weekly_icu_admissions                    99.086383\n",
              "weekly_icu_admissions_per_million        99.086383\n",
              "weekly_hosp_admissions                   98.244551\n",
              "weekly_hosp_admissions_per_million       98.244551\n",
              "new_tests                                55.876979\n",
              "total_tests                              56.124028\n",
              "total_tests_per_thousand                 56.124028\n",
              "new_tests_per_thousand                   55.876979\n",
              "new_tests_smoothed                       48.228702\n",
              "new_tests_smoothed_per_thousand          48.228702\n",
              "positive_rate                            51.631458\n",
              "tests_per_case                           52.220648\n",
              "tests_units                              46.579531\n",
              "total_vaccinations                       80.828967\n",
              "people_vaccinated                        81.652154\n",
              "people_fully_vaccinated                  84.414446\n",
              "new_vaccinations                         84.040609\n",
              "new_vaccinations_smoothed                66.409673\n",
              "total_vaccinations_per_hundred           80.828967\n",
              "people_vaccinated_per_hundred            81.652154\n",
              "people_fully_vaccinated_per_hundred      84.414446\n",
              "new_vaccinations_smoothed_per_million    66.409673\n",
              "stringency_index                         16.568158\n",
              "population                                0.661906\n",
              "population_density                        7.221300\n",
              "median_age                               10.978316\n",
              "aged_65_older                            11.973971\n",
              "aged_70_older                            11.468685\n",
              "gdp_per_capita                           10.602614\n",
              "extreme_poverty                          39.817836\n",
              "cardiovasc_death_rate                    10.666008\n",
              "diabetes_prevalence                       8.213227\n",
              "female_smokers                           30.176384\n",
              "male_smokers                             31.196278\n",
              "handwashing_facilities                   55.132102\n",
              "hospital_beds_per_thousand               18.687189\n",
              "life_expectancy                           5.096676\n",
              "human_development_index                  10.562527\n",
              "excess_mortality                         96.527325\n",
              "dtype: float64"
            ]
          },
          "metadata": {
            "tags": []
          },
          "execution_count": 125
        }
      ]
    },
    {
      "cell_type": "markdown",
      "metadata": {
        "id": "s9rRlmF85RPx"
      },
      "source": [
        "Podemos verificar acima um alto indice de porcentagem de valores ausentes para diversas colunas."
      ]
    },
    {
      "cell_type": "markdown",
      "metadata": {
        "id": "0qCUdIFF6t6R"
      },
      "source": [
        "**Visualizando as 5 primeiras localizações que possuem mais Casos Confirmados e Mortes na data mais atual.**"
      ]
    },
    {
      "cell_type": "code",
      "metadata": {
        "colab": {
          "base_uri": "https://localhost:8080/",
          "height": 204
        },
        "id": "pVzqKSf87Ofi",
        "outputId": "458a941c-69d5-4ded-cb1a-dca2075a4915"
      },
      "source": [
        "df.loc[df.date == '2021-08-03', ['location', 'total_cases']].sort_values(by='total_cases', ascending=False)[1:6]"
      ],
      "execution_count": 126,
      "outputs": [
        {
          "output_type": "execute_result",
          "data": {
            "text/html": [
              "<div>\n",
              "<style scoped>\n",
              "    .dataframe tbody tr th:only-of-type {\n",
              "        vertical-align: middle;\n",
              "    }\n",
              "\n",
              "    .dataframe tbody tr th {\n",
              "        vertical-align: top;\n",
              "    }\n",
              "\n",
              "    .dataframe thead th {\n",
              "        text-align: right;\n",
              "    }\n",
              "</style>\n",
              "<table border=\"1\" class=\"dataframe\">\n",
              "  <thead>\n",
              "    <tr style=\"text-align: right;\">\n",
              "      <th></th>\n",
              "      <th>location</th>\n",
              "      <th>total_cases</th>\n",
              "    </tr>\n",
              "  </thead>\n",
              "  <tbody>\n",
              "    <tr>\n",
              "      <th>5624</th>\n",
              "      <td>Asia</td>\n",
              "      <td>62779267.0</td>\n",
              "    </tr>\n",
              "    <tr>\n",
              "      <th>32769</th>\n",
              "      <td>Europe</td>\n",
              "      <td>52148573.0</td>\n",
              "    </tr>\n",
              "    <tr>\n",
              "      <th>71454</th>\n",
              "      <td>North America</td>\n",
              "      <td>42092535.0</td>\n",
              "    </tr>\n",
              "    <tr>\n",
              "      <th>89738</th>\n",
              "      <td>South America</td>\n",
              "      <td>35645616.0</td>\n",
              "    </tr>\n",
              "    <tr>\n",
              "      <th>102208</th>\n",
              "      <td>United States</td>\n",
              "      <td>35237950.0</td>\n",
              "    </tr>\n",
              "  </tbody>\n",
              "</table>\n",
              "</div>"
            ],
            "text/plain": [
              "             location  total_cases\n",
              "5624             Asia   62779267.0\n",
              "32769          Europe   52148573.0\n",
              "71454   North America   42092535.0\n",
              "89738   South America   35645616.0\n",
              "102208  United States   35237950.0"
            ]
          },
          "metadata": {
            "tags": []
          },
          "execution_count": 126
        }
      ]
    },
    {
      "cell_type": "code",
      "metadata": {
        "colab": {
          "base_uri": "https://localhost:8080/",
          "height": 204
        },
        "id": "cIkb_OZH_vk6",
        "outputId": "7ea97d78-5a5f-4676-ef70-a5e37f546bea"
      },
      "source": [
        "df.loc[df.date == '2021-08-03', ['location', 'total_deaths']].sort_values(by='total_deaths', ascending=False)[1:6]"
      ],
      "execution_count": 127,
      "outputs": [
        {
          "output_type": "execute_result",
          "data": {
            "text/html": [
              "<div>\n",
              "<style scoped>\n",
              "    .dataframe tbody tr th:only-of-type {\n",
              "        vertical-align: middle;\n",
              "    }\n",
              "\n",
              "    .dataframe tbody tr th {\n",
              "        vertical-align: top;\n",
              "    }\n",
              "\n",
              "    .dataframe thead th {\n",
              "        text-align: right;\n",
              "    }\n",
              "</style>\n",
              "<table border=\"1\" class=\"dataframe\">\n",
              "  <thead>\n",
              "    <tr style=\"text-align: right;\">\n",
              "      <th></th>\n",
              "      <th>location</th>\n",
              "      <th>total_deaths</th>\n",
              "    </tr>\n",
              "  </thead>\n",
              "  <tbody>\n",
              "    <tr>\n",
              "      <th>32769</th>\n",
              "      <td>Europe</td>\n",
              "      <td>1139389.0</td>\n",
              "    </tr>\n",
              "    <tr>\n",
              "      <th>89738</th>\n",
              "      <td>South America</td>\n",
              "      <td>1093810.0</td>\n",
              "    </tr>\n",
              "    <tr>\n",
              "      <th>71454</th>\n",
              "      <td>North America</td>\n",
              "      <td>926615.0</td>\n",
              "    </tr>\n",
              "    <tr>\n",
              "      <th>5624</th>\n",
              "      <td>Asia</td>\n",
              "      <td>912171.0</td>\n",
              "    </tr>\n",
              "    <tr>\n",
              "      <th>33329</th>\n",
              "      <td>European Union</td>\n",
              "      <td>744848.0</td>\n",
              "    </tr>\n",
              "  </tbody>\n",
              "</table>\n",
              "</div>"
            ],
            "text/plain": [
              "             location  total_deaths\n",
              "32769          Europe     1139389.0\n",
              "89738   South America     1093810.0\n",
              "71454   North America      926615.0\n",
              "5624             Asia      912171.0\n",
              "33329  European Union      744848.0"
            ]
          },
          "metadata": {
            "tags": []
          },
          "execution_count": 127
        }
      ]
    },
    {
      "cell_type": "markdown",
      "metadata": {
        "id": "8QJXJVzpbFdE"
      },
      "source": [
        "**Gráfico de Mortes no mundo**"
      ]
    },
    {
      "cell_type": "code",
      "metadata": {
        "colab": {
          "base_uri": "https://localhost:8080/",
          "height": 437
        },
        "id": "BU6sRRi6bOng",
        "outputId": "b470d47f-5d37-4d72-f158-23041b30e839"
      },
      "source": [
        "sns.set()\n",
        "fig, ax = plt.subplots(figsize = (10,6))\n",
        "ax = df.loc[df.location == \"World\", 'total_deaths'].reset_index(drop=True).plot()\n",
        "\n",
        "ax.set_title('Gráfico de Mortes no Mundo')\n",
        "ax.set_xlabel('Mortes')\n",
        "\n",
        "plt.tight_layout()"
      ],
      "execution_count": 128,
      "outputs": [
        {
          "output_type": "display_data",
          "data": {
            "image/png": "[encoded data removed]",
            "text/plain": [
              "<Figure size 720x432 with 1 Axes>"
            ]
          },
          "metadata": {
            "tags": []
          }
        }
      ]
    },
    {
      "cell_type": "markdown",
      "metadata": {
        "id": "m00cSAH1bWKl"
      },
      "source": [
        "**Gráfico de Dispersão PIB em relação a quantidade de Mortos**"
      ]
    },
    {
      "cell_type": "code",
      "metadata": {
        "colab": {
          "base_uri": "https://localhost:8080/",
          "height": 474
        },
        "id": "go6NpSm6d8xb",
        "outputId": "a97d41d4-4350-41c8-d9cf-0eb4f1182135"
      },
      "source": [
        "sns.set()\n",
        "fig, ax = plt.subplots(figsize=(10,6))\n",
        "\n",
        "df.loc[df.date == '2021-08-04'].plot.scatter(x='gdp_per_capita', y='total_deaths', ax=ax)\n",
        "ax.set_title('Grafico de Dispersão PIB/Mortes')\n",
        "\n",
        "plt.tight_layout()"
      ],
      "execution_count": 129,
      "outputs": [
        {
          "output_type": "stream",
          "text": [
            "*c* argument looks like a single numeric RGB or RGBA sequence, which should be avoided as value-mapping will have precedence in case its length matches with *x* & *y*.  Please use the *color* keyword-argument or provide a 2-D array with a single row if you intend to specify the same RGB or RGBA value for all points.\n"
          ],
          "name": "stderr"
        },
        {
          "output_type": "display_data",
          "data": {
            "image/png": "[encoded data removed]",
            "text/plain": [
              "<Figure size 720x432 with 1 Axes>"
            ]
          },
          "metadata": {
            "tags": []
          }
        }
      ]
    },
    {
      "cell_type": "markdown",
      "metadata": {
        "id": "69rEpONGqK1n"
      },
      "source": [
        "**Quantidade de Casos/Morte no Brasil**"
      ]
    },
    {
      "cell_type": "code",
      "metadata": {
        "colab": {
          "base_uri": "https://localhost:8080/",
          "height": 437
        },
        "id": "1d9PDYdwevC1",
        "outputId": "b1cfcea0-3ce1-41fd-bd5d-5a5ce147449c"
      },
      "source": [
        "fig, ax = plt.subplots(figsize=(10,6))\n",
        "\n",
        "ax = sns.countplot(x = 'total_deaths' , hue = 'total_cases', data=df.loc[(df.date == '2021-08-04') & (df.location == 'Brazil')])\n",
        "\n",
        "ax.set_xlabel('Total de Mortes')\n",
        "\n",
        "plt.tight_layout()"
      ],
      "execution_count": 130,
      "outputs": [
        {
          "output_type": "display_data",
          "data": {
            "image/png": "[encoded data removed]",
            "text/plain": [
              "<Figure size 720x432 with 1 Axes>"
            ]
          },
          "metadata": {
            "tags": []
          }
        }
      ]
    },
    {
      "cell_type": "markdown",
      "metadata": {
        "id": "CNfkGVNPjc67"
      },
      "source": [
        "Observamos acima que até a data de 04/08/2021, infelizmente atingimos 20 milhões de casos no Brasil e destes 559 mil mortes."
      ]
    },
    {
      "cell_type": "markdown",
      "metadata": {
        "id": "tQrif9IM97bm"
      },
      "source": [
        "##Ánalise Exploratória no Brasil"
      ]
    },
    {
      "cell_type": "code",
      "metadata": {
        "colab": {
          "base_uri": "https://localhost:8080/",
          "height": 117
        },
        "id": "edsB5e6vtLqU",
        "outputId": "4dc84770-ec23-402b-d7b9-26d77ac91949"
      },
      "source": [
        "df.loc[(df.date == '2021-08-04') & (df.location == 'Brazil')]"
      ],
      "execution_count": 131,
      "outputs": [
        {
          "output_type": "execute_result",
          "data": {
            "text/html": [
              "<div>\n",
              "<style scoped>\n",
              "    .dataframe tbody tr th:only-of-type {\n",
              "        vertical-align: middle;\n",
              "    }\n",
              "\n",
              "    .dataframe tbody tr th {\n",
              "        vertical-align: top;\n",
              "    }\n",
              "\n",
              "    .dataframe thead th {\n",
              "        text-align: right;\n",
              "    }\n",
              "</style>\n",
              "<table border=\"1\" class=\"dataframe\">\n",
              "  <thead>\n",
              "    <tr style=\"text-align: right;\">\n",
              "      <th></th>\n",
              "      <th>iso_code</th>\n",
              "      <th>continent</th>\n",
              "      <th>location</th>\n",
              "      <th>date</th>\n",
              "      <th>total_cases</th>\n",
              "      <th>new_cases</th>\n",
              "      <th>new_cases_smoothed</th>\n",
              "      <th>total_deaths</th>\n",
              "      <th>new_deaths</th>\n",
              "      <th>new_deaths_smoothed</th>\n",
              "      <th>total_cases_per_million</th>\n",
              "      <th>new_cases_per_million</th>\n",
              "      <th>new_cases_smoothed_per_million</th>\n",
              "      <th>total_deaths_per_million</th>\n",
              "      <th>new_deaths_per_million</th>\n",
              "      <th>new_deaths_smoothed_per_million</th>\n",
              "      <th>reproduction_rate</th>\n",
              "      <th>icu_patients</th>\n",
              "      <th>icu_patients_per_million</th>\n",
              "      <th>hosp_patients</th>\n",
              "      <th>hosp_patients_per_million</th>\n",
              "      <th>weekly_icu_admissions</th>\n",
              "      <th>weekly_icu_admissions_per_million</th>\n",
              "      <th>weekly_hosp_admissions</th>\n",
              "      <th>weekly_hosp_admissions_per_million</th>\n",
              "      <th>new_tests</th>\n",
              "      <th>total_tests</th>\n",
              "      <th>total_tests_per_thousand</th>\n",
              "      <th>new_tests_per_thousand</th>\n",
              "      <th>new_tests_smoothed</th>\n",
              "      <th>new_tests_smoothed_per_thousand</th>\n",
              "      <th>positive_rate</th>\n",
              "      <th>tests_per_case</th>\n",
              "      <th>tests_units</th>\n",
              "      <th>total_vaccinations</th>\n",
              "      <th>people_vaccinated</th>\n",
              "      <th>people_fully_vaccinated</th>\n",
              "      <th>new_vaccinations</th>\n",
              "      <th>new_vaccinations_smoothed</th>\n",
              "      <th>total_vaccinations_per_hundred</th>\n",
              "      <th>people_vaccinated_per_hundred</th>\n",
              "      <th>people_fully_vaccinated_per_hundred</th>\n",
              "      <th>new_vaccinations_smoothed_per_million</th>\n",
              "      <th>stringency_index</th>\n",
              "      <th>population</th>\n",
              "      <th>population_density</th>\n",
              "      <th>median_age</th>\n",
              "      <th>aged_65_older</th>\n",
              "      <th>aged_70_older</th>\n",
              "      <th>gdp_per_capita</th>\n",
              "      <th>extreme_poverty</th>\n",
              "      <th>cardiovasc_death_rate</th>\n",
              "      <th>diabetes_prevalence</th>\n",
              "      <th>female_smokers</th>\n",
              "      <th>male_smokers</th>\n",
              "      <th>handwashing_facilities</th>\n",
              "      <th>hospital_beds_per_thousand</th>\n",
              "      <th>life_expectancy</th>\n",
              "      <th>human_development_index</th>\n",
              "      <th>excess_mortality</th>\n",
              "    </tr>\n",
              "  </thead>\n",
              "  <tbody>\n",
              "    <tr>\n",
              "      <th>14140</th>\n",
              "      <td>BRA</td>\n",
              "      <td>South America</td>\n",
              "      <td>Brazil</td>\n",
              "      <td>2021-08-04</td>\n",
              "      <td>20026533.0</td>\n",
              "      <td>40716.0</td>\n",
              "      <td>32778.143</td>\n",
              "      <td>559607.0</td>\n",
              "      <td>1175.0</td>\n",
              "      <td>918.286</td>\n",
              "      <td>94216.168</td>\n",
              "      <td>191.551</td>\n",
              "      <td>154.207</td>\n",
              "      <td>2632.709</td>\n",
              "      <td>5.528</td>\n",
              "      <td>4.32</td>\n",
              "      <td>NaN</td>\n",
              "      <td>NaN</td>\n",
              "      <td>NaN</td>\n",
              "      <td>NaN</td>\n",
              "      <td>NaN</td>\n",
              "      <td>NaN</td>\n",
              "      <td>NaN</td>\n",
              "      <td>NaN</td>\n",
              "      <td>NaN</td>\n",
              "      <td>NaN</td>\n",
              "      <td>NaN</td>\n",
              "      <td>NaN</td>\n",
              "      <td>NaN</td>\n",
              "      <td>NaN</td>\n",
              "      <td>NaN</td>\n",
              "      <td>NaN</td>\n",
              "      <td>NaN</td>\n",
              "      <td>NaN</td>\n",
              "      <td>147214665.0</td>\n",
              "      <td>107980946.0</td>\n",
              "      <td>43375897.0</td>\n",
              "      <td>1656401.0</td>\n",
              "      <td>1333416.0</td>\n",
              "      <td>69.26</td>\n",
              "      <td>50.8</td>\n",
              "      <td>20.41</td>\n",
              "      <td>6273.0</td>\n",
              "      <td>NaN</td>\n",
              "      <td>212559409.0</td>\n",
              "      <td>25.04</td>\n",
              "      <td>33.5</td>\n",
              "      <td>8.552</td>\n",
              "      <td>5.06</td>\n",
              "      <td>14103.452</td>\n",
              "      <td>3.4</td>\n",
              "      <td>177.961</td>\n",
              "      <td>8.11</td>\n",
              "      <td>10.1</td>\n",
              "      <td>17.9</td>\n",
              "      <td>NaN</td>\n",
              "      <td>2.2</td>\n",
              "      <td>75.88</td>\n",
              "      <td>0.765</td>\n",
              "      <td>NaN</td>\n",
              "    </tr>\n",
              "  </tbody>\n",
              "</table>\n",
              "</div>"
            ],
            "text/plain": [
              "      iso_code      continent  ... human_development_index excess_mortality\n",
              "14140      BRA  South America  ...                   0.765              NaN\n",
              "\n",
              "[1 rows x 60 columns]"
            ]
          },
          "metadata": {
            "tags": []
          },
          "execution_count": 131
        }
      ]
    },
    {
      "cell_type": "markdown",
      "metadata": {
        "id": "zthkrXXRtO1y"
      },
      "source": [
        "**Algumas informações importante sobre o Covid-19 no Brasil:**\n",
        "\n",
        "**Data 04/08/2021**\n",
        "\n",
        "* Total de Casos: 20.026.533\n",
        "* Novos Casos: 40.716\n",
        "* Total de Mortos: 559.607\n",
        "* Novas Mortes: 1.175\n",
        "* Total de Vacinados - 147.214.665\n",
        "* Total de pessoas com 1º Dose + 2º Dose ou Dose Única: 43.375.897\n",
        "* Novos Vacinados: 1.656.401"
      ]
    },
    {
      "cell_type": "code",
      "metadata": {
        "id": "kmocc7KG5d6N"
      },
      "source": [
        "#Criando um novo DataFrame setando o Brasil e o periodo de data\n",
        "df_brasil_data = df.loc[(df.location == 'Brazil') & ((df.date >= '2021-01-01') & (df.date <= '2021-07-31'))].copy()"
      ],
      "execution_count": 132,
      "outputs": []
    },
    {
      "cell_type": "code",
      "metadata": {
        "id": "o3syyT2H7eBE"
      },
      "source": [
        "#Transformando a coluna date em index\n",
        "df_brasil_data.set_index('date', inplace=True)"
      ],
      "execution_count": 133,
      "outputs": []
    },
    {
      "cell_type": "markdown",
      "metadata": {
        "id": "3SAXUZZj9V0i"
      },
      "source": [
        "**Novos Casos no Brasil de Janeiro a Julho/2021**"
      ]
    },
    {
      "cell_type": "code",
      "metadata": {
        "colab": {
          "base_uri": "https://localhost:8080/",
          "height": 365
        },
        "id": "IVJZYtdp5Go-",
        "outputId": "3fbb4c0d-dab0-4c7b-f2a2-5be39b5f62e0"
      },
      "source": [
        "sns.set()\n",
        "fig, ax = plt.subplots(figsize=(15,5), nrows=1, ncols=2)\n",
        "\n",
        "df_brasil_data['new_cases'].plot(kind='line',ax = ax[0])\n",
        "ax[0].set_title('Gráfico de Novos Casos', size=14)\n",
        "ax[0].set_xlabel('Data')\n",
        "ax[0].set_ylabel('Casos')\n",
        "\n",
        "df_brasil_data['new_deaths'].plot(kind='line',ax = ax[1], color='red')\n",
        "ax[1].set_title('Gráfico de Novas Mortes', size=14)\n",
        "ax[1].set_xlabel('Data')\n",
        "ax[1].set_ylabel('Mortes')\n",
        "\n",
        "plt.tight_layout()\n"
      ],
      "execution_count": 134,
      "outputs": [
        {
          "output_type": "display_data",
          "data": {
            "image/png": "[encoded data removed]",
            "text/plain": [
              "<Figure size 1080x360 with 2 Axes>"
            ]
          },
          "metadata": {
            "tags": []
          }
        }
      ]
    },
    {
      "cell_type": "code",
      "metadata": {
        "colab": {
          "base_uri": "https://localhost:8080/"
        },
        "id": "Lx1WJViI_Qi0",
        "outputId": "926fc569-daa8-4fcd-c238-795b33d4fc3e"
      },
      "source": [
        "df_brasil_data['new_cases'].sort_values(ascending=False)"
      ],
      "execution_count": 135,
      "outputs": [
        {
          "output_type": "execute_result",
          "data": {
            "text/plain": [
              "date\n",
              "2021-06-23    115228.0\n",
              "2021-07-23    108732.0\n",
              "2021-03-25    100158.0\n",
              "2021-06-18     98832.0\n",
              "2021-06-02     95601.0\n",
              "                ...   \n",
              "2021-07-12     17031.0\n",
              "2021-01-02     15827.0\n",
              "2021-07-19     15271.0\n",
              "2021-02-06         0.0\n",
              "2021-02-08         0.0\n",
              "Name: new_cases, Length: 212, dtype: float64"
            ]
          },
          "metadata": {
            "tags": []
          },
          "execution_count": 135
        }
      ]
    },
    {
      "cell_type": "code",
      "metadata": {
        "colab": {
          "base_uri": "https://localhost:8080/"
        },
        "id": "HnfF1AvbD8dD",
        "outputId": "938f050c-de26-48bb-ece0-91011866dc9c"
      },
      "source": [
        "df_brasil_data['new_deaths'].sort_values(ascending=False)"
      ],
      "execution_count": 136,
      "outputs": [
        {
          "output_type": "execute_result",
          "data": {
            "text/plain": [
              "date\n",
              "2021-04-08    4249.0\n",
              "2021-04-06    4195.0\n",
              "2021-03-31    3869.0\n",
              "2021-04-07    3829.0\n",
              "2021-04-13    3808.0\n",
              "               ...  \n",
              "2021-01-18     452.0\n",
              "2021-01-02     314.0\n",
              "2021-01-03     293.0\n",
              "2021-02-06       0.0\n",
              "2021-02-08       0.0\n",
              "Name: new_deaths, Length: 212, dtype: float64"
            ]
          },
          "metadata": {
            "tags": []
          },
          "execution_count": 136
        }
      ]
    },
    {
      "cell_type": "markdown",
      "metadata": {
        "id": "k7bWSfAO8hP6"
      },
      "source": [
        "<p align=\"justify\">Podemos observar acima que entre junho e julho foi o maior pico de novos casos no país em 2021, onde em 23 de junho tivemos 115.228 novos casos e em 06/02 não tivemos nenhum novo caso no país. Quantos as Mortes em Abril foi o pico de novas mortes no Brasil. Lembrando que de acordo com dados oficiais as primeiras vacinas aplicadas no Brasil foi no inicio da segunda semana de Janeiro/2021.</p>"
      ]
    },
    {
      "cell_type": "markdown",
      "metadata": {
        "id": "gzoIc4FXIzB6"
      },
      "source": [
        "**Gráfico de Mortes no Brasil de Janeiro a Julho/2021**"
      ]
    },
    {
      "cell_type": "code",
      "metadata": {
        "colab": {
          "base_uri": "https://localhost:8080/",
          "height": 293
        },
        "id": "M-ONA5mv_ZmE",
        "outputId": "49a410f3-3273-4484-84b7-7ed76c908bc8"
      },
      "source": [
        "fig, ax = plt.subplots()\n",
        "df_brasil_data['total_deaths'].plot(kind='line', ax=ax)\n",
        "\n",
        "plt.tight_layout()"
      ],
      "execution_count": 137,
      "outputs": [
        {
          "output_type": "display_data",
          "data": {
            "image/png": "[encoded data removed]",
            "text/plain": [
              "<Figure size 432x288 with 1 Axes>"
            ]
          },
          "metadata": {
            "tags": []
          }
        }
      ]
    },
    {
      "cell_type": "markdown",
      "metadata": {
        "id": "auT5KI3wYUkJ"
      },
      "source": [
        "**Quantidade de Pessoas que falta se vacinar com ao menos uma Dose**"
      ]
    },
    {
      "cell_type": "code",
      "metadata": {
        "colab": {
          "base_uri": "https://localhost:8080/"
        },
        "id": "Zr_VPiAtVBNn",
        "outputId": "417ddfb1-493b-4040-c77a-7e0f33f0b79d"
      },
      "source": [
        "df_vacinados = df_brasil_data.loc['2021-07-31']['population'] - df.loc[(df.location == 'Brazil') & (df.date == '2021-08-04'), 'total_vaccinations']\n",
        "vacinados = float(df_vacinados.to_string(index=False))\n",
        "print('Pessoas a serem vacinadas com ao menos uma Dose: {:.2f}'.format(vacinados))"
      ],
      "execution_count": 154,
      "outputs": [
        {
          "output_type": "stream",
          "text": [
            "Pessoas a serem vacinadas com ao menos uma Dose: 65344744.00\n"
          ],
          "name": "stdout"
        }
      ]
    },
    {
      "cell_type": "markdown",
      "metadata": {
        "id": "5DSOmmFVGIUd"
      },
      "source": [
        "#Conclusão\n",
        "\n",
        "Através desses dados foi possivel tirar vários insights sobre a pandemia no Brasil e no Mundo, saúde é um setor que praticamente trabalhei por 4 anos e estive a frente da COVID-19, infelizmente é uma área complexa de se trabalhar, e em momentos como esse que fizemos parte da estátistica é pior ainda. Podemos tirar diversas conclusões sobre este trabalho e muito pode ser feito ainda, como quantidade de testes realizados, comparação entre casos X vacinação, mortes X vacinação, entre muito outros. Espero que tenham gostado, acompanhem meu [GIT](https://github.com/hlsvalle/data-science).  "
      ]
    }
  ]
}