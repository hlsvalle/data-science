{
  "nbformat": 4,
  "nbformat_minor": 0,
  "metadata": {
    "colab": {
      "name": "Análise dos dados - Doenças Cardiovasculares.ipynb",
      "provenance": [],
      "collapsed_sections": [],
      "authorship_tag": "ABX9TyPz9pHW9itt2tJmSPzbdRB3",
      "include_colab_link": true
    },
    "kernelspec": {
      "name": "python3",
      "display_name": "Python 3"
    }
  },
  "cells": [
    {
      "cell_type": "markdown",
      "metadata": {
        "id": "view-in-github",
        "colab_type": "text"
      },
      "source": [
        "<a href=\"https://colab.research.google.com/github/hlsvalle/data-science/blob/master/An%C3%A1lise_dos_dados_Doen%C3%A7as_Cardiovasculares.ipynb\" target=\"_parent\"><img src=\"https://colab.research.google.com/assets/colab-badge.svg\" alt=\"Open In Colab\"/></a>"
      ]
    },
    {
      "cell_type": "markdown",
      "metadata": {
        "id": "jOdZ58JNq3iU",
        "colab_type": "text"
      },
      "source": [
        "# Análise Exploratória dos Dados - Doenças Cardiovasculares\n",
        "\n",
        "Doença cardiovascular é um termo genérico que designa todas as alterações patológicas que afetam o coração e/ou os vasos sanguíneos. No termo inclui-se a **doença cardíaca coronária** (doença que afeta os vasos sanguíneos que irrigam o coração), a **hipertensão** e a **arteriosclerose**. Um dos mais importantes fatores de risco de doença cardiovascular é a hipertensão (tensão arterial elevada).\n",
        "\n",
        "A existência prolongada de valores elevados da tensão arterial conduz a alterações nas paredes dos vasos sanguíneos que interferem com o fluxo de sangue e resultam no fato de o coração deixar de receber oxigênio suficiente. \n",
        "\n",
        "O coração reage com dor, a que se chama angina de peito (que significa literalmente \"aperto no peito\").\n",
        "\n",
        "**As doenças de coração mais comuns são:**\n",
        "\n",
        "*   Hipertensão\n",
        "*   Enfarte agudo do miocárdio\n",
        "*   Angina de peito\n",
        "*   Doenças nas válvulas cardíacas\n",
        "*   Doenças cardíacas congénitas\n",
        "*   Endocardite\n",
        "*   Arritmias cardíacas\n",
        "*   Miocardite\n",
        "\n",
        "**As principais causas das doenças cardiovasculares são:**\n",
        "\n",
        "*   Tensão arterial elevada\n",
        "*   Níveis elevados de lípidos no sangue\n",
        "*   Diabetes\n",
        "*   Doenças do músculo cardíaco\n",
        "*   Predisposição genética\n",
        "*   Tabagismo\n",
        "*   Falta de exercício físico\n",
        "*   Situações prolongadas de stress\n",
        "\n",
        "**Outros sintomas que podem ser indícios de problemas no sistema cardiovascular são:**\n",
        "\n",
        "*   Taquicardia\n",
        "*   Angina (dor no peito)\n",
        "*   Indigestão\n",
        "*   Náusea\n",
        "*   Sudorese intensa\n",
        "*   Dor no pescoço, mandíbula, garganta e costas\n",
        "*   Fadiga\n",
        "*   Desmaio\n",
        "\n",
        "Em 2018, cientistas do Google apresentaram um estudo sobre aprendizado de máquina(deep learning) e inteligência artificial na previsão de doenças cardiovasculares.\n",
        "\n",
        "Neste estudo o algoritmo foi treinado para antecipar em até 5 anos o diagnóstico de doenças cardiovasculares, no caso foram analisados dados como idade, gênero, fumante ou não,pressão sanguinea e eventos cardiacos adversos.\n",
        "\n",
        "Durante os teste o algoritmo apresentou em torno de 70 % de precisão ao identificar uma pessoa com risco de cardiopatia.\n",
        "\n",
        "Na area da saúde, cada vez mais a inteligência artificial e machine learning vem demonstrando aos profissionais a possibilidade de antecipar os casos mais complexos, ajudando assim a diagnosticar com mais precisão e rapidez.\n",
        "\n",
        "# Obtenção dos Dados\n",
        "\n",
        "Este estudo foi possivel através dos dados coletados da Cleveland Clinic Foundation e se encontra disponível no [Repositório UCI Machine Learning.](https://archive.ics.uci.edu/ml/datasets/heart+Disease)\n",
        "\n",
        "É importante frisar que dados clinicos dos pacientes foram removidos deste banco de dados;\n",
        "\n",
        "O dataset processado contém dados de 303 pessoas e 76 atributos. Entretanto, os principais artigos e estudos publicados optaram por usar apenas 14 atributos, considerados de maior relevância. Da mesma maneira, este projeto de Data Science usará essas mesmas 14 variáveis principais.\n",
        "\n",
        "  * O arquivo csv com os dados de 303 pessoas e 14 atributos pode ser baixado neste [link](https://raw.githubusercontent.com/carlosfab/curso_data_science_na_pratica/master/modulo_03/heart-disease-uci.csv).\n",
        "\n",
        "  * O arquivo contendo todos os detalhes e documentação do dataset usado neste projeto se encontra neste [link](https://github.com/carlosfab/curso_data_science_na_pratica/blob/master/modulo_03/heart-disease.names).\n",
        "\n",
        "  *  Há ainda um dataset secundário que será utilizado para ver a evolução no número de mortes por doenças cardiovasculares no Brasil (entre os anos de 2004-2017). Esses dados foram disponibilizados pela [Sociedade Brasileira de Cardiologia](http://www.cardiometro.com.br/anteriores.asp), e podem ser baixados neste [link](https://raw.githubusercontent.com/carlosfab/curso_data_science_na_pratica/master/modulo_03/mortes_doencas_cardiovasculares.csv).\n",
        "\n",
        "\n",
        "### Informações sobre os atributos do dataset:\n",
        "\n",
        " * `age` - idade em anos\n",
        " * `sex` - sexo do paciente\n",
        "   * 0: mulher\n",
        "   * 1: homem\n",
        " * `cp` - tipo da dor torácica\n",
        "   * 1: angina típica\n",
        "   * 2: angina atípica\n",
        "   * 3: dor não cardíaca\n",
        "   * 4: assintomática\n",
        " * `trestbps` - pressão arterial em repouso\n",
        " * `chol` - colesterol sérico (*mg/dl*)\n",
        " * `fbs` - açucar no sangue em jejum > 120*mg/dl*\n",
        "   * 0: `False`\n",
        "   * 1: `True`\n",
        " * `restecg` - resultado do eletrocardiografia de repouso\n",
        "   * 0: normal\n",
        "   * 1: anormalidades de ST-T  (inversão da onda T e elevação ou depressão de > 0.05*mV*)\n",
        "   * 2: hipertrofia ventricular esquerda provável ou definitiva (pelos critérios de Romhilt-Estes)\n",
        " * `thalach` - frequência cardíaca máxima atingida\n",
        " * `exang` - angina induzida pelo exercício\n",
        "   * 0: não\n",
        "   * 1: sim\n",
        " * `oldpeak` - depessão do segmento ST induzida pelo exercício em relação ao repouso\n",
        " * `slope` - inclinação do segmento ST no pico do exercício\n",
        " * `ca` - número de vasos principais colorido por fluoroscopia\n",
        " * `thal` - *thallium stress test*\n",
        "   * 3: normal\n",
        "   * 6: defeito fixo\n",
        "   * 7: defeito reversível\n",
        " * `num` - diagnóstico de doença cardíaca (diagnóstico angiográfico)\n",
        "   * 0: não há doença cardíaca ( < 50% de estreitamento do diâmetro)\n",
        "   * 1,2,3,4: há doença cardíaca ( > 50% de estreitamento do diâmetro)\n",
        "\n",
        "#### Importando os dados\n",
        "\n",
        "Neste principio iremos importar dois datasets conforme proposto no inicio deste projeto:\n",
        "\n",
        "* Dataset contendo 303 entradas e 14 variaveis contendo dados de doenças cardiovasculares.\n",
        "* Dataset contendo dados de mortalidade referente a doenças cardiovasculares no Brasil."
      ]
    },
    {
      "cell_type": "code",
      "metadata": {
        "id": "YOX7vQNZEVA9",
        "colab_type": "code",
        "colab": {}
      },
      "source": [
        "#Importando as bibliotecas necessarias\n",
        "import pandas as pd\n",
        "import matplotlib.pyplot as plt\n",
        "import seaborn as sns\n",
        "import numpy as np\n",
        "\n",
        "sns.set_style()"
      ],
      "execution_count": 0,
      "outputs": []
    },
    {
      "cell_type": "code",
      "metadata": {
        "id": "iQ_5oCDeEzaj",
        "colab_type": "code",
        "colab": {}
      },
      "source": [
        "#Importando os datasets\n",
        "dataset_uci = \"https://raw.githubusercontent.com/carlosfab/curso_data_science_na_pratica/master/modulo_03/heart-disease-uci.csv\"\n",
        "dataset_brasil = \"https://raw.githubusercontent.com/carlosfab/curso_data_science_na_pratica/master/modulo_03/mortes_doencas_cardiovasculares.csv\"\n",
        "\n",
        "#Importando para um dataframe\n",
        "df = pd.read_csv(dataset_uci)\n",
        "df_brasil = pd.read_csv(dataset_brasil, index_col=\"ano\", parse_dates=True)"
      ],
      "execution_count": 0,
      "outputs": []
    },
    {
      "cell_type": "markdown",
      "metadata": {
        "id": "m_1SN1ByGOd8",
        "colab_type": "text"
      },
      "source": [
        "Observando as informações sobre os atributos disponiveis no dataset , na coluna num, possui 5 valores possiveis [0,1,2,3,4];\n",
        "\n",
        "Porem vamos trabalhar somente com dois valores 0 ou 1, seguindo a idéia de varios projetos que utilizam este dataset, para isso vamos igualar igual a 1 os valores que compreendem entre 1-4;\n",
        " "
      ]
    },
    {
      "cell_type": "code",
      "metadata": {
        "id": "FIhrsNofHqKO",
        "colab_type": "code",
        "outputId": "57f51301-256c-4817-d31f-67ccb8b41aaa",
        "colab": {
          "base_uri": "https://localhost:8080/",
          "height": 121
        }
      },
      "source": [
        "df.num.value_counts()"
      ],
      "execution_count": 0,
      "outputs": [
        {
          "output_type": "execute_result",
          "data": {
            "text/plain": [
              "0    164\n",
              "1     55\n",
              "2     36\n",
              "3     35\n",
              "4     13\n",
              "Name: num, dtype: int64"
            ]
          },
          "metadata": {
            "tags": []
          },
          "execution_count": 4
        }
      ]
    },
    {
      "cell_type": "markdown",
      "metadata": {
        "id": "ueyk8TcCHuSO",
        "colab_type": "text"
      },
      "source": [
        "É possivel observar acima que possuimos 164 diagnósticos de pessoas que não possuem doenças cardiacas, e 139 diagnósticos somando os tipos de 1 a 4 que possuem alguma doença cardiaca;\n",
        "Abaixo vamos unir os tipos 2, 3 e 4 igual a 1."
      ]
    },
    {
      "cell_type": "code",
      "metadata": {
        "id": "odRoD_asJK-0",
        "colab_type": "code",
        "colab": {}
      },
      "source": [
        "#Igualando a 1 tudo que for diferente de 0\n",
        "df.loc[df.num != 0, 'num'] = 1"
      ],
      "execution_count": 0,
      "outputs": []
    },
    {
      "cell_type": "code",
      "metadata": {
        "id": "rIHDKWnMJopH",
        "colab_type": "code",
        "outputId": "e2507c4c-fa82-42da-e8b3-06d4f5f3bcfb",
        "colab": {
          "base_uri": "https://localhost:8080/",
          "height": 69
        }
      },
      "source": [
        "df.num.value_counts()"
      ],
      "execution_count": 0,
      "outputs": [
        {
          "output_type": "execute_result",
          "data": {
            "text/plain": [
              "0    164\n",
              "1    139\n",
              "Name: num, dtype: int64"
            ]
          },
          "metadata": {
            "tags": []
          },
          "execution_count": 11
        }
      ]
    },
    {
      "cell_type": "markdown",
      "metadata": {
        "id": "8xxrLHeSJsdH",
        "colab_type": "text"
      },
      "source": [
        "Pronto acima mostramos a junção de todos os tipos e ficamos somente com os dois casos mais trabalhados, se há ou não doenças cardiacas."
      ]
    },
    {
      "cell_type": "code",
      "metadata": {
        "id": "J7Q1EKMqJ84v",
        "colab_type": "code",
        "outputId": "18de15fd-ac4a-45c2-b11b-5647e41ed090",
        "colab": {
          "base_uri": "https://localhost:8080/",
          "height": 34
        }
      },
      "source": [
        "#Observando o tamanho do nosso dataframe\n",
        "df.shape"
      ],
      "execution_count": 0,
      "outputs": [
        {
          "output_type": "execute_result",
          "data": {
            "text/plain": [
              "(303, 14)"
            ]
          },
          "metadata": {
            "tags": []
          },
          "execution_count": 6
        }
      ]
    },
    {
      "cell_type": "markdown",
      "metadata": {
        "id": "pjGGj3JcKFIT",
        "colab_type": "text"
      },
      "source": [
        "Observamos que nosso dataset possui 303 entradas de dados e 14 atributos, lembrando que nosso dataset foi processado para utilização destes 14 atributos mais utilizados."
      ]
    },
    {
      "cell_type": "code",
      "metadata": {
        "id": "40hlIt7AoQ84",
        "colab_type": "code",
        "outputId": "7e2f3bce-a06d-4934-f2df-7ed41720b9ef",
        "colab": {
          "base_uri": "https://localhost:8080/",
          "height": 320
        }
      },
      "source": [
        "# Resumo estatistico do nosso dataframe\n",
        "df.describe()"
      ],
      "execution_count": 0,
      "outputs": [
        {
          "output_type": "execute_result",
          "data": {
            "text/html": [
              "<div>\n",
              "<style scoped>\n",
              "    .dataframe tbody tr th:only-of-type {\n",
              "        vertical-align: middle;\n",
              "    }\n",
              "\n",
              "    .dataframe tbody tr th {\n",
              "        vertical-align: top;\n",
              "    }\n",
              "\n",
              "    .dataframe thead th {\n",
              "        text-align: right;\n",
              "    }\n",
              "</style>\n",
              "<table border=\"1\" class=\"dataframe\">\n",
              "  <thead>\n",
              "    <tr style=\"text-align: right;\">\n",
              "      <th></th>\n",
              "      <th>age</th>\n",
              "      <th>sex</th>\n",
              "      <th>cp</th>\n",
              "      <th>trestbps</th>\n",
              "      <th>chol</th>\n",
              "      <th>fbs</th>\n",
              "      <th>restecg</th>\n",
              "      <th>thalach</th>\n",
              "      <th>exang</th>\n",
              "      <th>oldpeak</th>\n",
              "      <th>slope</th>\n",
              "      <th>ca</th>\n",
              "      <th>thal</th>\n",
              "      <th>num</th>\n",
              "    </tr>\n",
              "  </thead>\n",
              "  <tbody>\n",
              "    <tr>\n",
              "      <th>count</th>\n",
              "      <td>303.000000</td>\n",
              "      <td>303.000000</td>\n",
              "      <td>303.000000</td>\n",
              "      <td>303.000000</td>\n",
              "      <td>303.000000</td>\n",
              "      <td>303.000000</td>\n",
              "      <td>303.000000</td>\n",
              "      <td>303.000000</td>\n",
              "      <td>303.000000</td>\n",
              "      <td>303.000000</td>\n",
              "      <td>303.000000</td>\n",
              "      <td>303.000000</td>\n",
              "      <td>303.000000</td>\n",
              "      <td>303.000000</td>\n",
              "    </tr>\n",
              "    <tr>\n",
              "      <th>mean</th>\n",
              "      <td>54.438944</td>\n",
              "      <td>0.679868</td>\n",
              "      <td>3.158416</td>\n",
              "      <td>131.689769</td>\n",
              "      <td>246.693069</td>\n",
              "      <td>0.148515</td>\n",
              "      <td>0.990099</td>\n",
              "      <td>149.607261</td>\n",
              "      <td>0.326733</td>\n",
              "      <td>1.039604</td>\n",
              "      <td>1.600660</td>\n",
              "      <td>0.663366</td>\n",
              "      <td>4.722772</td>\n",
              "      <td>0.458746</td>\n",
              "    </tr>\n",
              "    <tr>\n",
              "      <th>std</th>\n",
              "      <td>9.038662</td>\n",
              "      <td>0.467299</td>\n",
              "      <td>0.960126</td>\n",
              "      <td>17.599748</td>\n",
              "      <td>51.776918</td>\n",
              "      <td>0.356198</td>\n",
              "      <td>0.994971</td>\n",
              "      <td>22.875003</td>\n",
              "      <td>0.469794</td>\n",
              "      <td>1.161075</td>\n",
              "      <td>0.616226</td>\n",
              "      <td>0.934375</td>\n",
              "      <td>1.938383</td>\n",
              "      <td>0.499120</td>\n",
              "    </tr>\n",
              "    <tr>\n",
              "      <th>min</th>\n",
              "      <td>29.000000</td>\n",
              "      <td>0.000000</td>\n",
              "      <td>1.000000</td>\n",
              "      <td>94.000000</td>\n",
              "      <td>126.000000</td>\n",
              "      <td>0.000000</td>\n",
              "      <td>0.000000</td>\n",
              "      <td>71.000000</td>\n",
              "      <td>0.000000</td>\n",
              "      <td>0.000000</td>\n",
              "      <td>1.000000</td>\n",
              "      <td>0.000000</td>\n",
              "      <td>3.000000</td>\n",
              "      <td>0.000000</td>\n",
              "    </tr>\n",
              "    <tr>\n",
              "      <th>25%</th>\n",
              "      <td>48.000000</td>\n",
              "      <td>0.000000</td>\n",
              "      <td>3.000000</td>\n",
              "      <td>120.000000</td>\n",
              "      <td>211.000000</td>\n",
              "      <td>0.000000</td>\n",
              "      <td>0.000000</td>\n",
              "      <td>133.500000</td>\n",
              "      <td>0.000000</td>\n",
              "      <td>0.000000</td>\n",
              "      <td>1.000000</td>\n",
              "      <td>0.000000</td>\n",
              "      <td>3.000000</td>\n",
              "      <td>0.000000</td>\n",
              "    </tr>\n",
              "    <tr>\n",
              "      <th>50%</th>\n",
              "      <td>56.000000</td>\n",
              "      <td>1.000000</td>\n",
              "      <td>3.000000</td>\n",
              "      <td>130.000000</td>\n",
              "      <td>241.000000</td>\n",
              "      <td>0.000000</td>\n",
              "      <td>1.000000</td>\n",
              "      <td>153.000000</td>\n",
              "      <td>0.000000</td>\n",
              "      <td>0.800000</td>\n",
              "      <td>2.000000</td>\n",
              "      <td>0.000000</td>\n",
              "      <td>3.000000</td>\n",
              "      <td>0.000000</td>\n",
              "    </tr>\n",
              "    <tr>\n",
              "      <th>75%</th>\n",
              "      <td>61.000000</td>\n",
              "      <td>1.000000</td>\n",
              "      <td>4.000000</td>\n",
              "      <td>140.000000</td>\n",
              "      <td>275.000000</td>\n",
              "      <td>0.000000</td>\n",
              "      <td>2.000000</td>\n",
              "      <td>166.000000</td>\n",
              "      <td>1.000000</td>\n",
              "      <td>1.600000</td>\n",
              "      <td>2.000000</td>\n",
              "      <td>1.000000</td>\n",
              "      <td>7.000000</td>\n",
              "      <td>1.000000</td>\n",
              "    </tr>\n",
              "    <tr>\n",
              "      <th>max</th>\n",
              "      <td>77.000000</td>\n",
              "      <td>1.000000</td>\n",
              "      <td>4.000000</td>\n",
              "      <td>200.000000</td>\n",
              "      <td>564.000000</td>\n",
              "      <td>1.000000</td>\n",
              "      <td>2.000000</td>\n",
              "      <td>202.000000</td>\n",
              "      <td>1.000000</td>\n",
              "      <td>6.200000</td>\n",
              "      <td>3.000000</td>\n",
              "      <td>3.000000</td>\n",
              "      <td>7.000000</td>\n",
              "      <td>1.000000</td>\n",
              "    </tr>\n",
              "  </tbody>\n",
              "</table>\n",
              "</div>"
            ],
            "text/plain": [
              "              age         sex          cp  ...          ca        thal         num\n",
              "count  303.000000  303.000000  303.000000  ...  303.000000  303.000000  303.000000\n",
              "mean    54.438944    0.679868    3.158416  ...    0.663366    4.722772    0.458746\n",
              "std      9.038662    0.467299    0.960126  ...    0.934375    1.938383    0.499120\n",
              "min     29.000000    0.000000    1.000000  ...    0.000000    3.000000    0.000000\n",
              "25%     48.000000    0.000000    3.000000  ...    0.000000    3.000000    0.000000\n",
              "50%     56.000000    1.000000    3.000000  ...    0.000000    3.000000    0.000000\n",
              "75%     61.000000    1.000000    4.000000  ...    1.000000    7.000000    1.000000\n",
              "max     77.000000    1.000000    4.000000  ...    3.000000    7.000000    1.000000\n",
              "\n",
              "[8 rows x 14 columns]"
            ]
          },
          "metadata": {
            "tags": []
          },
          "execution_count": 7
        }
      ]
    },
    {
      "cell_type": "markdown",
      "metadata": {
        "id": "ikowZrp9oXRi",
        "colab_type": "text"
      },
      "source": [
        "Podemos perceber já neste resumo algumas informações importantes como a idade média sendo de 54 anos, 75 % são homens, a maioria do tipo de dor é assintomática, a maioria das pessoas possuem açucar no sangue em jejum maior que 120 mg/dl."
      ]
    },
    {
      "cell_type": "code",
      "metadata": {
        "id": "jApw2mWy0fZq",
        "colab_type": "code",
        "outputId": "6bdb040d-0cb3-48ef-80e8-3add36e21b08",
        "colab": {
          "base_uri": "https://localhost:8080/",
          "height": 206
        }
      },
      "source": [
        "# Visualizando as 5 primeiras linhas do nosso dataframe\n",
        "df.head()"
      ],
      "execution_count": 0,
      "outputs": [
        {
          "output_type": "execute_result",
          "data": {
            "text/html": [
              "<div>\n",
              "<style scoped>\n",
              "    .dataframe tbody tr th:only-of-type {\n",
              "        vertical-align: middle;\n",
              "    }\n",
              "\n",
              "    .dataframe tbody tr th {\n",
              "        vertical-align: top;\n",
              "    }\n",
              "\n",
              "    .dataframe thead th {\n",
              "        text-align: right;\n",
              "    }\n",
              "</style>\n",
              "<table border=\"1\" class=\"dataframe\">\n",
              "  <thead>\n",
              "    <tr style=\"text-align: right;\">\n",
              "      <th></th>\n",
              "      <th>age</th>\n",
              "      <th>sex</th>\n",
              "      <th>cp</th>\n",
              "      <th>trestbps</th>\n",
              "      <th>chol</th>\n",
              "      <th>fbs</th>\n",
              "      <th>restecg</th>\n",
              "      <th>thalach</th>\n",
              "      <th>exang</th>\n",
              "      <th>oldpeak</th>\n",
              "      <th>slope</th>\n",
              "      <th>ca</th>\n",
              "      <th>thal</th>\n",
              "      <th>num</th>\n",
              "    </tr>\n",
              "  </thead>\n",
              "  <tbody>\n",
              "    <tr>\n",
              "      <th>0</th>\n",
              "      <td>63.0</td>\n",
              "      <td>1.0</td>\n",
              "      <td>1.0</td>\n",
              "      <td>145.0</td>\n",
              "      <td>233.0</td>\n",
              "      <td>1.0</td>\n",
              "      <td>2.0</td>\n",
              "      <td>150.0</td>\n",
              "      <td>0.0</td>\n",
              "      <td>2.3</td>\n",
              "      <td>3.0</td>\n",
              "      <td>0.0</td>\n",
              "      <td>6.0</td>\n",
              "      <td>0</td>\n",
              "    </tr>\n",
              "    <tr>\n",
              "      <th>1</th>\n",
              "      <td>67.0</td>\n",
              "      <td>1.0</td>\n",
              "      <td>4.0</td>\n",
              "      <td>160.0</td>\n",
              "      <td>286.0</td>\n",
              "      <td>0.0</td>\n",
              "      <td>2.0</td>\n",
              "      <td>108.0</td>\n",
              "      <td>1.0</td>\n",
              "      <td>1.5</td>\n",
              "      <td>2.0</td>\n",
              "      <td>3.0</td>\n",
              "      <td>3.0</td>\n",
              "      <td>1</td>\n",
              "    </tr>\n",
              "    <tr>\n",
              "      <th>2</th>\n",
              "      <td>67.0</td>\n",
              "      <td>1.0</td>\n",
              "      <td>4.0</td>\n",
              "      <td>120.0</td>\n",
              "      <td>229.0</td>\n",
              "      <td>0.0</td>\n",
              "      <td>2.0</td>\n",
              "      <td>129.0</td>\n",
              "      <td>1.0</td>\n",
              "      <td>2.6</td>\n",
              "      <td>2.0</td>\n",
              "      <td>2.0</td>\n",
              "      <td>7.0</td>\n",
              "      <td>1</td>\n",
              "    </tr>\n",
              "    <tr>\n",
              "      <th>3</th>\n",
              "      <td>37.0</td>\n",
              "      <td>1.0</td>\n",
              "      <td>3.0</td>\n",
              "      <td>130.0</td>\n",
              "      <td>250.0</td>\n",
              "      <td>0.0</td>\n",
              "      <td>0.0</td>\n",
              "      <td>187.0</td>\n",
              "      <td>0.0</td>\n",
              "      <td>3.5</td>\n",
              "      <td>3.0</td>\n",
              "      <td>0.0</td>\n",
              "      <td>3.0</td>\n",
              "      <td>0</td>\n",
              "    </tr>\n",
              "    <tr>\n",
              "      <th>4</th>\n",
              "      <td>41.0</td>\n",
              "      <td>0.0</td>\n",
              "      <td>2.0</td>\n",
              "      <td>130.0</td>\n",
              "      <td>204.0</td>\n",
              "      <td>0.0</td>\n",
              "      <td>2.0</td>\n",
              "      <td>172.0</td>\n",
              "      <td>0.0</td>\n",
              "      <td>1.4</td>\n",
              "      <td>1.0</td>\n",
              "      <td>0.0</td>\n",
              "      <td>3.0</td>\n",
              "      <td>0</td>\n",
              "    </tr>\n",
              "  </tbody>\n",
              "</table>\n",
              "</div>"
            ],
            "text/plain": [
              "    age  sex   cp  trestbps   chol  fbs  ...  exang  oldpeak  slope   ca  thal  num\n",
              "0  63.0  1.0  1.0     145.0  233.0  1.0  ...    0.0      2.3    3.0  0.0   6.0    0\n",
              "1  67.0  1.0  4.0     160.0  286.0  0.0  ...    1.0      1.5    2.0  3.0   3.0    1\n",
              "2  67.0  1.0  4.0     120.0  229.0  0.0  ...    1.0      2.6    2.0  2.0   7.0    1\n",
              "3  37.0  1.0  3.0     130.0  250.0  0.0  ...    0.0      3.5    3.0  0.0   3.0    0\n",
              "4  41.0  0.0  2.0     130.0  204.0  0.0  ...    0.0      1.4    1.0  0.0   3.0    0\n",
              "\n",
              "[5 rows x 14 columns]"
            ]
          },
          "metadata": {
            "tags": []
          },
          "execution_count": 8
        }
      ]
    },
    {
      "cell_type": "markdown",
      "metadata": {
        "id": "_qh1HzKV472B",
        "colab_type": "text"
      },
      "source": [
        "Na segunda linha observamos um caso de Homem com 67 anos, que possui diagnóstico de doença cardíaca (diagnóstico angiográfico), seu tipo de dor é assintomática, e o resultado de eletrocardiografia deu hipertrofia ventricular esquerda provável ou definitiva (pelos critérios de Romhilt-Estes)."
      ]
    },
    {
      "cell_type": "code",
      "metadata": {
        "id": "OovYlPjh8Jtk",
        "colab_type": "code",
        "outputId": "58a2b189-fc9d-485f-9f66-37306b991c1d",
        "colab": {
          "base_uri": "https://localhost:8080/",
          "height": 278
        }
      },
      "source": [
        "# Verificar valores ausentes do nosso dataset\n",
        "df.isnull().sum()"
      ],
      "execution_count": 0,
      "outputs": [
        {
          "output_type": "execute_result",
          "data": {
            "text/plain": [
              "age         0\n",
              "sex         0\n",
              "cp          0\n",
              "trestbps    0\n",
              "chol        0\n",
              "fbs         0\n",
              "restecg     0\n",
              "thalach     0\n",
              "exang       0\n",
              "oldpeak     0\n",
              "slope       0\n",
              "ca          0\n",
              "thal        0\n",
              "num         0\n",
              "dtype: int64"
            ]
          },
          "metadata": {
            "tags": []
          },
          "execution_count": 9
        }
      ]
    },
    {
      "cell_type": "markdown",
      "metadata": {
        "id": "pmPQgZHK8ZLi",
        "colab_type": "text"
      },
      "source": [
        "É possivel notar que o nosso dataset esta totalmente preenchido, não possui valores ausentes."
      ]
    },
    {
      "cell_type": "code",
      "metadata": {
        "id": "e_Tgkx_t_XD3",
        "colab_type": "code",
        "outputId": "e8523e1b-90d1-4af3-e714-7b2b60a23874",
        "colab": {
          "base_uri": "https://localhost:8080/",
          "height": 238
        }
      },
      "source": [
        "# Verificando as 5 primeiras linhas do nosso dataframe\n",
        "df_brasil.head()"
      ],
      "execution_count": 0,
      "outputs": [
        {
          "output_type": "execute_result",
          "data": {
            "text/html": [
              "<div>\n",
              "<style scoped>\n",
              "    .dataframe tbody tr th:only-of-type {\n",
              "        vertical-align: middle;\n",
              "    }\n",
              "\n",
              "    .dataframe tbody tr th {\n",
              "        vertical-align: top;\n",
              "    }\n",
              "\n",
              "    .dataframe thead th {\n",
              "        text-align: right;\n",
              "    }\n",
              "</style>\n",
              "<table border=\"1\" class=\"dataframe\">\n",
              "  <thead>\n",
              "    <tr style=\"text-align: right;\">\n",
              "      <th></th>\n",
              "      <th>mortes_doencas_cardio</th>\n",
              "    </tr>\n",
              "    <tr>\n",
              "      <th>ano</th>\n",
              "      <th></th>\n",
              "    </tr>\n",
              "  </thead>\n",
              "  <tbody>\n",
              "    <tr>\n",
              "      <th>2017-01-01</th>\n",
              "      <td>383.961</td>\n",
              "    </tr>\n",
              "    <tr>\n",
              "      <th>2016-01-01</th>\n",
              "      <td>362.091</td>\n",
              "    </tr>\n",
              "    <tr>\n",
              "      <th>2015-01-01</th>\n",
              "      <td>349.584</td>\n",
              "    </tr>\n",
              "    <tr>\n",
              "      <th>2014-01-01</th>\n",
              "      <td>340.284</td>\n",
              "    </tr>\n",
              "    <tr>\n",
              "      <th>2013-01-01</th>\n",
              "      <td>339.672</td>\n",
              "    </tr>\n",
              "  </tbody>\n",
              "</table>\n",
              "</div>"
            ],
            "text/plain": [
              "            mortes_doencas_cardio\n",
              "ano                              \n",
              "2017-01-01                383.961\n",
              "2016-01-01                362.091\n",
              "2015-01-01                349.584\n",
              "2014-01-01                340.284\n",
              "2013-01-01                339.672"
            ]
          },
          "metadata": {
            "tags": []
          },
          "execution_count": 13
        }
      ]
    },
    {
      "cell_type": "code",
      "metadata": {
        "id": "ypHC4OX88owp",
        "colab_type": "code",
        "outputId": "32950900-a796-4b32-fb83-9f2295221f4f",
        "colab": {
          "base_uri": "https://localhost:8080/",
          "height": 297
        }
      },
      "source": [
        "#Plotar grafico de linha para mortalidades no Brasil\n",
        "fig, ax = plt.subplots()\n",
        "df_brasil.plot(kind=\"line\", ax=ax)\n",
        "ax.set_title(\"Grafico de Mortalidade no Brasil\")\n",
        "ax.set_xlabel(\"Ano\")\n",
        "ax.set_ylabel(\"Mortalidade\")\n",
        "plt.tight_layout()"
      ],
      "execution_count": 0,
      "outputs": [
        {
          "output_type": "display_data",
          "data": {
            "image/png": "[encoded data removed]",
            "text/plain": [
              "<Figure size 432x288 with 1 Axes>"
            ]
          },
          "metadata": {
            "tags": []
          }
        }
      ]
    },
    {
      "cell_type": "code",
      "metadata": {
        "id": "8brf00UF-8yv",
        "colab_type": "code",
        "outputId": "754c2828-3bbb-4925-a9ba-455fddedd46b",
        "colab": {
          "base_uri": "https://localhost:8080/",
          "height": 297
        }
      },
      "source": [
        "#Plotar grafico de barras para homens e mulheres\n",
        "fig, ax = plt.subplots()\n",
        "\n",
        "df.sex.value_counts().plot(kind=\"bar\", ax = ax)\n",
        "\n",
        "ax.set_xlabel(\"Homens X Mulheres\")\n",
        "\n",
        "plt.tight_layout()"
      ],
      "execution_count": 0,
      "outputs": [
        {
          "output_type": "display_data",
          "data": {
            "image/png": "[encoded data removed]",
            "text/plain": [
              "<Figure size 432x288 with 1 Axes>"
            ]
          },
          "metadata": {
            "tags": []
          }
        }
      ]
    },
    {
      "cell_type": "code",
      "metadata": {
        "id": "O6S8gRbgBhY4",
        "colab_type": "code",
        "outputId": "b55aee5c-534e-4849-ba48-8aa29758c47c",
        "colab": {
          "base_uri": "https://localhost:8080/",
          "height": 69
        }
      },
      "source": [
        "#Buscando a porcentagem entre Homens x Mulheres\n",
        "df.sex.value_counts() / df.shape[0] * 100"
      ],
      "execution_count": 0,
      "outputs": [
        {
          "output_type": "execute_result",
          "data": {
            "text/plain": [
              "1.0    67.986799\n",
              "0.0    32.013201\n",
              "Name: sex, dtype: float64"
            ]
          },
          "metadata": {
            "tags": []
          },
          "execution_count": 25
        }
      ]
    },
    {
      "cell_type": "code",
      "metadata": {
        "id": "bXGrBEcLuQ_3",
        "colab_type": "code",
        "outputId": "bb591681-700c-4846-8ead-ec291aff38d9",
        "colab": {
          "base_uri": "https://localhost:8080/",
          "height": 69
        }
      },
      "source": [
        "#Descobrindo a quantidade de Homens x Mulheres \n",
        "df.sex.value_counts()"
      ],
      "execution_count": 0,
      "outputs": [
        {
          "output_type": "execute_result",
          "data": {
            "text/plain": [
              "1.0    206\n",
              "0.0     97\n",
              "Name: sex, dtype: int64"
            ]
          },
          "metadata": {
            "tags": []
          },
          "execution_count": 26
        }
      ]
    },
    {
      "cell_type": "markdown",
      "metadata": {
        "id": "jy4EeaFZCdLK",
        "colab_type": "text"
      },
      "source": [
        "No nosso dataset a coluna \"sex\" representa o sexo dos pacientes, onde 0 representa as mulheres e 1 representa os Homens, notamos que a representatividade de Homens em nosso dataset é bem superior sendo no total 206, ou seja, 67%"
      ]
    },
    {
      "cell_type": "code",
      "metadata": {
        "id": "8CKL5_f3upup",
        "colab_type": "code",
        "outputId": "651da08f-59e0-4a29-89fb-84ec4a6a5d1e",
        "colab": {
          "base_uri": "https://localhost:8080/",
          "height": 441
        }
      },
      "source": [
        "fig, ax = plt.subplots(figsize=(14,6))\n",
        "df.plot.scatter(x=\"age\", y=\"chol\", ax = ax, s=3)\n",
        "ax.set_title(\"Grafico de Dispersão por Idade X Colesterol Sérico mg/dl\")\n",
        "\n",
        "plt.tight_layout()"
      ],
      "execution_count": 0,
      "outputs": [
        {
          "output_type": "display_data",
          "data": {
            "image/png": "[encoded data removed]",
            "text/plain": [
              "<Figure size 1008x432 with 1 Axes>"
            ]
          },
          "metadata": {
            "tags": []
          }
        }
      ]
    },
    {
      "cell_type": "code",
      "metadata": {
        "id": "8ZpGpmAavyoW",
        "colab_type": "code",
        "outputId": "053962ba-5e7e-4573-9e6a-61d928ad732d",
        "colab": {
          "base_uri": "https://localhost:8080/",
          "height": 441
        }
      },
      "source": [
        "#Regressão Linear em grafico de dispersão\n",
        "fig, ax = plt.subplots(figsize=(14,6))\n",
        "\n",
        "sns.regplot('age', 'chol', data=df,scatter_kws={\"s\": 1},line_kws={'color':'blue'},ax=ax)\n",
        "            \n",
        "plt.tight_layout()"
      ],
      "execution_count": 0,
      "outputs": [
        {
          "output_type": "display_data",
          "data": {
            "image/png": "[encoded data removed]",
            "text/plain": [
              "<Figure size 1008x432 with 1 Axes>"
            ]
          },
          "metadata": {
            "tags": []
          }
        }
      ]
    },
    {
      "cell_type": "code",
      "metadata": {
        "id": "gnkW73gk0Imy",
        "colab_type": "code",
        "outputId": "0eb2376c-265c-456e-a69f-eb182eef9e0c",
        "colab": {
          "base_uri": "https://localhost:8080/",
          "height": 297
        }
      },
      "source": [
        "#Plotando Histograma para Colesterol Sérico\n",
        "fig, ax = plt.subplots()\n",
        "df.chol.hist(ax=ax)\n",
        "plt.tight_layout()"
      ],
      "execution_count": 0,
      "outputs": [
        {
          "output_type": "display_data",
          "data": {
            "image/png": "[encoded data removed]",
            "text/plain": [
              "<Figure size 432x288 with 1 Axes>"
            ]
          },
          "metadata": {
            "tags": []
          }
        }
      ]
    },
    {
      "cell_type": "code",
      "metadata": {
        "id": "FM8yLwmJ2o9r",
        "colab_type": "code",
        "outputId": "7052a0e7-449d-466e-de15-448521329d67",
        "colab": {
          "base_uri": "https://localhost:8080/",
          "height": 297
        }
      },
      "source": [
        "#Plotando Histograma com corte para retirada de possiveis outliers\n",
        "fig, ax = plt.subplots()\n",
        "df.loc[df['chol'] < 400].chol.plot(kind='hist', ax = ax)\n",
        "plt.tight_layout()"
      ],
      "execution_count": 0,
      "outputs": [
        {
          "output_type": "display_data",
          "data": {
            "image/png": "[encoded data removed]",
            "text/plain": [
              "<Figure size 432x288 with 1 Axes>"
            ]
          },
          "metadata": {
            "tags": []
          }
        }
      ]
    },
    {
      "cell_type": "code",
      "metadata": {
        "id": "tXV314Y227lI",
        "colab_type": "code",
        "outputId": "c4353583-55c8-4296-86a4-87b97d023333",
        "colab": {
          "base_uri": "https://localhost:8080/",
          "height": 297
        }
      },
      "source": [
        "#Plotar Histogramas de Colesterol Sérico com valores relativos onde xticks do Inicio, usando o numpy para pegar o bins\n",
        "count, bin_edges = np.histogram(df['chol'])\n",
        "\n",
        "fig, ax = plt.subplots()\n",
        "df['chol'].plot(kind='hist', ax=ax, bins=10, xticks=bin_edges, density=True)\n",
        "plt.tight_layout()"
      ],
      "execution_count": 0,
      "outputs": [
        {
          "output_type": "display_data",
          "data": {
            "image/png": "[encoded data removed]",
            "text/plain": [
              "<Figure size 432x288 with 1 Axes>"
            ]
          },
          "metadata": {
            "tags": []
          }
        }
      ]
    },
    {
      "cell_type": "code",
      "metadata": {
        "id": "UMp-mmxVBMbW",
        "colab_type": "code",
        "colab": {}
      },
      "source": [
        "labels = {'0':'normal', '2':'hipertrofia ventricular','1':'anormalidades de ST-T'}"
      ],
      "execution_count": 0,
      "outputs": []
    },
    {
      "cell_type": "code",
      "metadata": {
        "id": "_59Q5Div893q",
        "colab_type": "code",
        "outputId": "598626c3-8443-4e4e-f1d3-7bc77500d3fd",
        "colab": {
          "base_uri": "https://localhost:8080/",
          "height": 297
        }
      },
      "source": [
        "#Plotando um grafico de pizza para resultado do eletrocardiografia de repouso\n",
        "''' 0: normal\n",
        "    1: anormalidades de ST-T (inversão da onda T e elevação ou depressão de > 0.05mV)\n",
        "    2: hipertrofia ventricular esquerda provável ou definitiva (pelos critérios de Romhilt-Estes)\n",
        "'''\n",
        "fig, ax = plt.subplots()\n",
        "df.restecg.value_counts().plot(kind='pie', ax = ax)\n",
        "ax.set_title(\"Grafico de Pizza - Eletrocardiografia\")\n",
        "ax.legend(labels= labels.values(), loc=\"upper center\")\n",
        "plt.tight_layout()"
      ],
      "execution_count": 0,
      "outputs": [
        {
          "output_type": "display_data",
          "data": {
            "image/png": "[encoded data removed]",
            "text/plain": [
              "<Figure size 432x288 with 1 Axes>"
            ]
          },
          "metadata": {
            "tags": []
          }
        }
      ]
    },
    {
      "cell_type": "code",
      "metadata": {
        "id": "HEjCM5ZsLCWD",
        "colab_type": "code",
        "outputId": "a14f02c4-e6e0-4645-df54-e3bf4480f32e",
        "colab": {
          "base_uri": "https://localhost:8080/",
          "height": 86
        }
      },
      "source": [
        "df.restecg.value_counts() / df.shape[0] * 100"
      ],
      "execution_count": 0,
      "outputs": [
        {
          "output_type": "execute_result",
          "data": {
            "text/plain": [
              "0.0    49.834983\n",
              "2.0    48.844884\n",
              "1.0     1.320132\n",
              "Name: restecg, dtype: float64"
            ]
          },
          "metadata": {
            "tags": []
          },
          "execution_count": 120
        }
      ]
    },
    {
      "cell_type": "markdown",
      "metadata": {
        "id": "RXJSNWwGKzb4",
        "colab_type": "text"
      },
      "source": [
        "No grafico de pizza, é possivel concluir que 49.83% apresentam o resultado do exame de eletrocardiografia normal, 48.84% apresentam hipertrofia ventricular e 1.32% apresenta anormalidades de ST-T;"
      ]
    },
    {
      "cell_type": "code",
      "metadata": {
        "id": "6SH8Gp9n-oE6",
        "colab_type": "code",
        "outputId": "bf48d1a0-a418-4509-8d6e-50605806c6dc",
        "colab": {
          "base_uri": "https://localhost:8080/",
          "height": 509
        }
      },
      "source": [
        "#Criando uma matriz de correlação\n",
        "corr = df.corr()\n",
        "display(corr)"
      ],
      "execution_count": 0,
      "outputs": [
        {
          "output_type": "display_data",
          "data": {
            "text/html": [
              "<div>\n",
              "<style scoped>\n",
              "    .dataframe tbody tr th:only-of-type {\n",
              "        vertical-align: middle;\n",
              "    }\n",
              "\n",
              "    .dataframe tbody tr th {\n",
              "        vertical-align: top;\n",
              "    }\n",
              "\n",
              "    .dataframe thead th {\n",
              "        text-align: right;\n",
              "    }\n",
              "</style>\n",
              "<table border=\"1\" class=\"dataframe\">\n",
              "  <thead>\n",
              "    <tr style=\"text-align: right;\">\n",
              "      <th></th>\n",
              "      <th>age</th>\n",
              "      <th>sex</th>\n",
              "      <th>cp</th>\n",
              "      <th>trestbps</th>\n",
              "      <th>chol</th>\n",
              "      <th>fbs</th>\n",
              "      <th>restecg</th>\n",
              "      <th>thalach</th>\n",
              "      <th>exang</th>\n",
              "      <th>oldpeak</th>\n",
              "      <th>slope</th>\n",
              "      <th>ca</th>\n",
              "      <th>thal</th>\n",
              "      <th>num</th>\n",
              "    </tr>\n",
              "  </thead>\n",
              "  <tbody>\n",
              "    <tr>\n",
              "      <th>age</th>\n",
              "      <td>1.000000</td>\n",
              "      <td>-0.097542</td>\n",
              "      <td>0.104139</td>\n",
              "      <td>0.284946</td>\n",
              "      <td>0.208950</td>\n",
              "      <td>0.118530</td>\n",
              "      <td>0.148868</td>\n",
              "      <td>-0.393806</td>\n",
              "      <td>0.091661</td>\n",
              "      <td>0.203805</td>\n",
              "      <td>0.161770</td>\n",
              "      <td>0.365323</td>\n",
              "      <td>0.128303</td>\n",
              "      <td>0.222853</td>\n",
              "    </tr>\n",
              "    <tr>\n",
              "      <th>sex</th>\n",
              "      <td>-0.097542</td>\n",
              "      <td>1.000000</td>\n",
              "      <td>0.010084</td>\n",
              "      <td>-0.064456</td>\n",
              "      <td>-0.199915</td>\n",
              "      <td>0.047862</td>\n",
              "      <td>0.021647</td>\n",
              "      <td>-0.048663</td>\n",
              "      <td>0.146201</td>\n",
              "      <td>0.102173</td>\n",
              "      <td>0.037533</td>\n",
              "      <td>0.086048</td>\n",
              "      <td>0.380581</td>\n",
              "      <td>0.224469</td>\n",
              "    </tr>\n",
              "    <tr>\n",
              "      <th>cp</th>\n",
              "      <td>0.104139</td>\n",
              "      <td>0.010084</td>\n",
              "      <td>1.000000</td>\n",
              "      <td>-0.036077</td>\n",
              "      <td>0.072319</td>\n",
              "      <td>-0.039975</td>\n",
              "      <td>0.067505</td>\n",
              "      <td>-0.334422</td>\n",
              "      <td>0.384060</td>\n",
              "      <td>0.202277</td>\n",
              "      <td>0.152050</td>\n",
              "      <td>0.233117</td>\n",
              "      <td>0.262089</td>\n",
              "      <td>0.407075</td>\n",
              "    </tr>\n",
              "    <tr>\n",
              "      <th>trestbps</th>\n",
              "      <td>0.284946</td>\n",
              "      <td>-0.064456</td>\n",
              "      <td>-0.036077</td>\n",
              "      <td>1.000000</td>\n",
              "      <td>0.130120</td>\n",
              "      <td>0.175340</td>\n",
              "      <td>0.146560</td>\n",
              "      <td>-0.045351</td>\n",
              "      <td>0.064762</td>\n",
              "      <td>0.189171</td>\n",
              "      <td>0.117382</td>\n",
              "      <td>0.097528</td>\n",
              "      <td>0.134424</td>\n",
              "      <td>0.157754</td>\n",
              "    </tr>\n",
              "    <tr>\n",
              "      <th>chol</th>\n",
              "      <td>0.208950</td>\n",
              "      <td>-0.199915</td>\n",
              "      <td>0.072319</td>\n",
              "      <td>0.130120</td>\n",
              "      <td>1.000000</td>\n",
              "      <td>0.009841</td>\n",
              "      <td>0.171043</td>\n",
              "      <td>-0.003432</td>\n",
              "      <td>0.061310</td>\n",
              "      <td>0.046564</td>\n",
              "      <td>-0.004062</td>\n",
              "      <td>0.123726</td>\n",
              "      <td>0.018351</td>\n",
              "      <td>0.070909</td>\n",
              "    </tr>\n",
              "    <tr>\n",
              "      <th>fbs</th>\n",
              "      <td>0.118530</td>\n",
              "      <td>0.047862</td>\n",
              "      <td>-0.039975</td>\n",
              "      <td>0.175340</td>\n",
              "      <td>0.009841</td>\n",
              "      <td>1.000000</td>\n",
              "      <td>0.069564</td>\n",
              "      <td>-0.007854</td>\n",
              "      <td>0.025665</td>\n",
              "      <td>0.005747</td>\n",
              "      <td>0.059894</td>\n",
              "      <td>0.140764</td>\n",
              "      <td>0.064625</td>\n",
              "      <td>0.059186</td>\n",
              "    </tr>\n",
              "    <tr>\n",
              "      <th>restecg</th>\n",
              "      <td>0.148868</td>\n",
              "      <td>0.021647</td>\n",
              "      <td>0.067505</td>\n",
              "      <td>0.146560</td>\n",
              "      <td>0.171043</td>\n",
              "      <td>0.069564</td>\n",
              "      <td>1.000000</td>\n",
              "      <td>-0.083389</td>\n",
              "      <td>0.084867</td>\n",
              "      <td>0.114133</td>\n",
              "      <td>0.133946</td>\n",
              "      <td>0.131749</td>\n",
              "      <td>0.024325</td>\n",
              "      <td>0.183696</td>\n",
              "    </tr>\n",
              "    <tr>\n",
              "      <th>thalach</th>\n",
              "      <td>-0.393806</td>\n",
              "      <td>-0.048663</td>\n",
              "      <td>-0.334422</td>\n",
              "      <td>-0.045351</td>\n",
              "      <td>-0.003432</td>\n",
              "      <td>-0.007854</td>\n",
              "      <td>-0.083389</td>\n",
              "      <td>1.000000</td>\n",
              "      <td>-0.378103</td>\n",
              "      <td>-0.343085</td>\n",
              "      <td>-0.385601</td>\n",
              "      <td>-0.265699</td>\n",
              "      <td>-0.274142</td>\n",
              "      <td>-0.415040</td>\n",
              "    </tr>\n",
              "    <tr>\n",
              "      <th>exang</th>\n",
              "      <td>0.091661</td>\n",
              "      <td>0.146201</td>\n",
              "      <td>0.384060</td>\n",
              "      <td>0.064762</td>\n",
              "      <td>0.061310</td>\n",
              "      <td>0.025665</td>\n",
              "      <td>0.084867</td>\n",
              "      <td>-0.378103</td>\n",
              "      <td>1.000000</td>\n",
              "      <td>0.288223</td>\n",
              "      <td>0.257748</td>\n",
              "      <td>0.145788</td>\n",
              "      <td>0.325240</td>\n",
              "      <td>0.397057</td>\n",
              "    </tr>\n",
              "    <tr>\n",
              "      <th>oldpeak</th>\n",
              "      <td>0.203805</td>\n",
              "      <td>0.102173</td>\n",
              "      <td>0.202277</td>\n",
              "      <td>0.189171</td>\n",
              "      <td>0.046564</td>\n",
              "      <td>0.005747</td>\n",
              "      <td>0.114133</td>\n",
              "      <td>-0.343085</td>\n",
              "      <td>0.288223</td>\n",
              "      <td>1.000000</td>\n",
              "      <td>0.577537</td>\n",
              "      <td>0.301067</td>\n",
              "      <td>0.342405</td>\n",
              "      <td>0.504092</td>\n",
              "    </tr>\n",
              "    <tr>\n",
              "      <th>slope</th>\n",
              "      <td>0.161770</td>\n",
              "      <td>0.037533</td>\n",
              "      <td>0.152050</td>\n",
              "      <td>0.117382</td>\n",
              "      <td>-0.004062</td>\n",
              "      <td>0.059894</td>\n",
              "      <td>0.133946</td>\n",
              "      <td>-0.385601</td>\n",
              "      <td>0.257748</td>\n",
              "      <td>0.577537</td>\n",
              "      <td>1.000000</td>\n",
              "      <td>0.110803</td>\n",
              "      <td>0.286792</td>\n",
              "      <td>0.377957</td>\n",
              "    </tr>\n",
              "    <tr>\n",
              "      <th>ca</th>\n",
              "      <td>0.365323</td>\n",
              "      <td>0.086048</td>\n",
              "      <td>0.233117</td>\n",
              "      <td>0.097528</td>\n",
              "      <td>0.123726</td>\n",
              "      <td>0.140764</td>\n",
              "      <td>0.131749</td>\n",
              "      <td>-0.265699</td>\n",
              "      <td>0.145788</td>\n",
              "      <td>0.301067</td>\n",
              "      <td>0.110803</td>\n",
              "      <td>1.000000</td>\n",
              "      <td>0.255446</td>\n",
              "      <td>0.520968</td>\n",
              "    </tr>\n",
              "    <tr>\n",
              "      <th>thal</th>\n",
              "      <td>0.128303</td>\n",
              "      <td>0.380581</td>\n",
              "      <td>0.262089</td>\n",
              "      <td>0.134424</td>\n",
              "      <td>0.018351</td>\n",
              "      <td>0.064625</td>\n",
              "      <td>0.024325</td>\n",
              "      <td>-0.274142</td>\n",
              "      <td>0.325240</td>\n",
              "      <td>0.342405</td>\n",
              "      <td>0.286792</td>\n",
              "      <td>0.255446</td>\n",
              "      <td>1.000000</td>\n",
              "      <td>0.507155</td>\n",
              "    </tr>\n",
              "    <tr>\n",
              "      <th>num</th>\n",
              "      <td>0.222853</td>\n",
              "      <td>0.224469</td>\n",
              "      <td>0.407075</td>\n",
              "      <td>0.157754</td>\n",
              "      <td>0.070909</td>\n",
              "      <td>0.059186</td>\n",
              "      <td>0.183696</td>\n",
              "      <td>-0.415040</td>\n",
              "      <td>0.397057</td>\n",
              "      <td>0.504092</td>\n",
              "      <td>0.377957</td>\n",
              "      <td>0.520968</td>\n",
              "      <td>0.507155</td>\n",
              "      <td>1.000000</td>\n",
              "    </tr>\n",
              "  </tbody>\n",
              "</table>\n",
              "</div>"
            ],
            "text/plain": [
              "               age       sex        cp  ...        ca      thal       num\n",
              "age       1.000000 -0.097542  0.104139  ...  0.365323  0.128303  0.222853\n",
              "sex      -0.097542  1.000000  0.010084  ...  0.086048  0.380581  0.224469\n",
              "cp        0.104139  0.010084  1.000000  ...  0.233117  0.262089  0.407075\n",
              "trestbps  0.284946 -0.064456 -0.036077  ...  0.097528  0.134424  0.157754\n",
              "chol      0.208950 -0.199915  0.072319  ...  0.123726  0.018351  0.070909\n",
              "fbs       0.118530  0.047862 -0.039975  ...  0.140764  0.064625  0.059186\n",
              "restecg   0.148868  0.021647  0.067505  ...  0.131749  0.024325  0.183696\n",
              "thalach  -0.393806 -0.048663 -0.334422  ... -0.265699 -0.274142 -0.415040\n",
              "exang     0.091661  0.146201  0.384060  ...  0.145788  0.325240  0.397057\n",
              "oldpeak   0.203805  0.102173  0.202277  ...  0.301067  0.342405  0.504092\n",
              "slope     0.161770  0.037533  0.152050  ...  0.110803  0.286792  0.377957\n",
              "ca        0.365323  0.086048  0.233117  ...  1.000000  0.255446  0.520968\n",
              "thal      0.128303  0.380581  0.262089  ...  0.255446  1.000000  0.507155\n",
              "num       0.222853  0.224469  0.407075  ...  0.520968  0.507155  1.000000\n",
              "\n",
              "[14 rows x 14 columns]"
            ]
          },
          "metadata": {
            "tags": []
          }
        }
      ]
    },
    {
      "cell_type": "code",
      "metadata": {
        "id": "P8xqf2JgFyrm",
        "colab_type": "code",
        "outputId": "b92945d3-58f5-40d9-e0e7-5c25b38fe160",
        "colab": {
          "base_uri": "https://localhost:8080/",
          "height": 300
        }
      },
      "source": [
        "#Plotando a matriz de correlação com HeatMap\n",
        "sns.heatmap(corr, cmap='RdBu', fmt='.2f', square=True,linecolor='white', annot=True);"
      ],
      "execution_count": 0,
      "outputs": [
        {
          "output_type": "display_data",
          "data": {
            "image/png": "[encoded data removed]",
            "text/plain": [
              "<Figure size 432x288 with 2 Axes>"
            ]
          },
          "metadata": {
            "tags": []
          }
        }
      ]
    },
    {
      "cell_type": "code",
      "metadata": {
        "id": "ZutLWZxKJ98v",
        "colab_type": "code",
        "colab": {}
      },
      "source": [
        ""
      ],
      "execution_count": 0,
      "outputs": []
    }
  ]
}